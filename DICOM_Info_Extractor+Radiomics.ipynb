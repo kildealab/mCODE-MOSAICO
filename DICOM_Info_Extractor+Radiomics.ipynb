{
 "cells": [
  {
   "cell_type": "code",
   "execution_count": 1,
   "id": "3e810211",
   "metadata": {},
   "outputs": [],
   "source": [
    "import pydicom as dcm\n",
    "import numpy as np\n",
    "import pandas as pd\n",
    "from matplotlib import pyplot as plt\n",
    "import json\n",
    "import radiomics\n"
   ]
  },
  {
   "cell_type": "code",
   "execution_count": 2,
   "id": "ecddef89",
   "metadata": {},
   "outputs": [],
   "source": [
    "path_public_data = '/mnt/iDriveShare/OdetteR/PHD/PublicData/GLIS-RT/GLIS-RT/GLI_001_GBM/04-05-2008-BRAIN-81839/3.000000-2.55mm-72273'\n",
    "#I:\\OdetteR\\PHD\\PublicData\\GLIS-RT\\GLIS-RT\\GLI_001_GBM\\"
   ]
  },
  {
   "cell_type": "code",
   "execution_count": 3,
   "id": "35b8cb1e",
   "metadata": {},
   "outputs": [],
   "source": [
    "ds = dcm.dcmread(path_public_data+'/1-002.dcm')"
   ]
  },
  {
   "cell_type": "code",
   "execution_count": 4,
   "id": "97d1bec6",
   "metadata": {
    "scrolled": true
   },
   "outputs": [
    {
     "data": {
      "text/plain": [
       "Dataset.file_meta -------------------------------\n",
       "(0002, 0000) File Meta Information Group Length  UL: 202\n",
       "(0002, 0001) File Meta Information Version       OB: b'\\x00\\x01'\n",
       "(0002, 0002) Media Storage SOP Class UID         UI: CT Image Storage\n",
       "(0002, 0003) Media Storage SOP Instance UID      UI: 1.3.6.1.4.1.14519.5.2.1.31949151924518114960315078426149235892\n",
       "(0002, 0010) Transfer Syntax UID                 UI: Implicit VR Little Endian\n",
       "(0002, 0012) Implementation Class UID            UI: 1.3.6.1.4.1.22213.1.143\n",
       "(0002, 0013) Implementation Version Name         SH: '0.5'\n",
       "(0002, 0016) Source Application Entity Title     AE: 'POSDA'\n",
       "-------------------------------------------------\n",
       "(0008, 0005) Specific Character Set              CS: 'ISO_IR 100'\n",
       "(0008, 0008) Image Type                          CS: ['ORIGINAL', 'PRIMARY', 'AXIAL']\n",
       "(0008, 0012) Instance Creation Date              DA: '20080405'\n",
       "(0008, 0013) Instance Creation Time              TM: '101034'\n",
       "(0008, 0016) SOP Class UID                       UI: CT Image Storage\n",
       "(0008, 0018) SOP Instance UID                    UI: 1.3.6.1.4.1.14519.5.2.1.31949151924518114960315078426149235892\n",
       "(0008, 0020) Study Date                          DA: '20080405'\n",
       "(0008, 0021) Series Date                         DA: '20080405'\n",
       "(0008, 0022) Acquisition Date                    DA: '20080405'\n",
       "(0008, 0023) Content Date                        DA: '20080405'\n",
       "(0008, 0030) Study Time                          TM: '095722'\n",
       "(0008, 0031) Series Time                         TM: '100745'\n",
       "(0008, 0032) Acquisition Time                    TM: '101031.109482'\n",
       "(0008, 0033) Content Time                        TM: '101034'\n",
       "(0008, 0050) Accession Number                    SH: ''\n",
       "(0008, 0060) Modality                            CS: 'CT'\n",
       "(0008, 0070) Manufacturer                        LO: 'GE MEDICAL SYSTEMS'\n",
       "(0008, 0090) Referring Physician's Name          PN: ''\n",
       "(0008, 1030) Study Description                   LO: 'BRAIN'\n",
       "(0008, 103e) Series Description                  LO: '2.5/5mm'\n",
       "(0008, 1090) Manufacturer's Model Name           LO: 'LightSpeed RT16'\n",
       "(0008, 1140)  Referenced Image Sequence  1 item(s) ---- \n",
       "   (0008, 1150) Referenced SOP Class UID            UI: CT Image Storage\n",
       "   (0008, 1155) Referenced SOP Instance UID         UI: 1.3.6.1.4.1.14519.5.2.1.200045199972312161713077661270375748411\n",
       "   ---------\n",
       "(0010, 0010) Patient's Name                      PN: 'GLI_001_GBM'\n",
       "(0010, 0020) Patient ID                          LO: 'GLI_001_GBM'\n",
       "(0010, 0030) Patient's Birth Date                DA: ''\n",
       "(0010, 0040) Patient's Sex                       CS: 'M'\n",
       "(0010, 1010) Patient's Age                       AS: '063Y'\n",
       "(0012, 0062) Patient Identity Removed            CS: 'YES'\n",
       "(0012, 0063) De-identification Method            LO: ['Limited Data Set: MIM.6.7.11.I202-0A', 'Per DICOM PS 3.15 AnnexE. Details in 0012,0064']\n",
       "(0012, 0064)  De-identification Method Code Sequence  8 item(s) ---- \n",
       "   (0008, 0100) Code Value                          SH: '113100'\n",
       "   (0008, 0102) Coding Scheme Designator            SH: 'DCM'\n",
       "   (0008, 0104) Code Meaning                        LO: 'Basic Application Confidentiality Profile'\n",
       "   ---------\n",
       "   (0008, 0100) Code Value                          SH: '113101'\n",
       "   (0008, 0102) Coding Scheme Designator            SH: 'DCM'\n",
       "   (0008, 0104) Code Meaning                        LO: 'Clean Pixel Data Option'\n",
       "   ---------\n",
       "   (0008, 0100) Code Value                          SH: '113104'\n",
       "   (0008, 0102) Coding Scheme Designator            SH: 'DCM'\n",
       "   (0008, 0104) Code Meaning                        LO: 'Clean Structured Content Option'\n",
       "   ---------\n",
       "   (0008, 0100) Code Value                          SH: '113105'\n",
       "   (0008, 0102) Coding Scheme Designator            SH: 'DCM'\n",
       "   (0008, 0104) Code Meaning                        LO: 'Clean Descriptors Option'\n",
       "   ---------\n",
       "   (0008, 0100) Code Value                          SH: '113107'\n",
       "   (0008, 0102) Coding Scheme Designator            SH: 'DCM'\n",
       "   (0008, 0104) Code Meaning                        LO: 'Retain Longitudinal Temporal Information Modified Dates Option'\n",
       "   ---------\n",
       "   (0008, 0100) Code Value                          SH: '113108'\n",
       "   (0008, 0102) Coding Scheme Designator            SH: 'DCM'\n",
       "   (0008, 0104) Code Meaning                        LO: 'Retain Patient Characteristics Option'\n",
       "   ---------\n",
       "   (0008, 0100) Code Value                          SH: '113109'\n",
       "   (0008, 0102) Coding Scheme Designator            SH: 'DCM'\n",
       "   (0008, 0104) Code Meaning                        LO: 'Retain Device Identity Option'\n",
       "   ---------\n",
       "   (0008, 0100) Code Value                          SH: '113111'\n",
       "   (0008, 0102) Coding Scheme Designator            SH: 'DCM'\n",
       "   (0008, 0104) Code Meaning                        LO: 'Retain Safe Private Option'\n",
       "   ---------\n",
       "(0013, 0010) Private Creator                     LO: 'CTP'\n",
       "(0013, 1010) Private tag data                    UN: b'GLIS-RT '\n",
       "(0013, 1013) Private tag data                    UN: b'70148597'\n",
       "(0018, 0010) Contrast/Bolus Agent                LO: '100 ISO 370'\n",
       "(0018, 0015) Body Part Examined                  CS: 'HEAD'\n",
       "(0018, 0022) Scan Options                        CS: 'HELICAL MODE'\n",
       "(0018, 0050) Slice Thickness                     DS: \"2.5\"\n",
       "(0018, 0060) KVP                                 DS: \"140.0\"\n",
       "(0018, 0088) Spacing Between Slices              DS: \"2.5\"\n",
       "(0018, 0090) Data Collection Diameter            DS: \"500.0\"\n",
       "(0018, 1020) Software Versions                   LO: 'qin.3'\n",
       "(0018, 1030) Protocol Name                       LO: '1.1 PHOTON BRAIN'\n",
       "(0018, 1040) Contrast/Bolus Route                LO: 'IV'\n",
       "(0018, 1100) Reconstruction Diameter             DS: \"362.0\"\n",
       "(0018, 1110) Distance Source to Detector         DS: \"1062.55\"\n",
       "(0018, 1111) Distance Source to Patient          DS: \"605.945\"\n",
       "(0018, 1120) Gantry/Detector Tilt                DS: \"0.0\"\n",
       "(0018, 1130) Table Height                        DS: \"195.5\"\n",
       "(0018, 1140) Rotation Direction                  CS: 'CW'\n",
       "(0018, 1150) Exposure Time                       IS: \"2274\"\n",
       "(0018, 1151) X-Ray Tube Current                  IS: \"98\"\n",
       "(0018, 1152) Exposure                            IS: \"21\"\n",
       "(0018, 1160) Filter Type                         SH: 'BODY FILTER'\n",
       "(0018, 1170) Generator Power                     IS: \"55300\"\n",
       "(0018, 1190) Focal Spot(s)                       DS: \"1.2\"\n",
       "(0018, 1210) Convolution Kernel                  SH: 'STANDARD'\n",
       "(0018, 5100) Patient Position                    CS: 'HFS'\n",
       "(0018, 9305) Revolution Time                     FD: 1.0\n",
       "(0018, 9306) Single Collimation Width            FD: 1.25\n",
       "(0018, 9307) Total Collimation Width             FD: 20.0\n",
       "(0018, 9309) Table Speed                         FD: 11.25\n",
       "(0018, 9310) Table Feed per Rotation             FD: 11.25\n",
       "(0018, 9311) Spiral Pitch Factor                 FD: 0.5625\n",
       "(0020, 000d) Study Instance UID                  UI: 1.3.6.1.4.1.14519.5.2.1.87280299921066333751442475150382681839\n",
       "(0020, 000e) Series Instance UID                 UI: 1.3.6.1.4.1.14519.5.2.1.115731514912622683915499004133224272273\n",
       "(0020, 0010) Study ID                            SH: ''\n",
       "(0020, 0011) Series Number                       IS: \"3\"\n",
       "(0020, 0012) Acquisition Number                  IS: \"1\"\n",
       "(0020, 0013) Instance Number                     IS: \"2\"\n",
       "(0020, 0032) Image Position (Patient)            DS: [-181.000, -187.000, 82.250]\n",
       "(0020, 0037) Image Orientation (Patient)         DS: [1.000000, 0.000000, 0.000000, 0.000000, 1.000000, 0.000000]\n",
       "(0020, 0052) Frame of Reference UID              UI: 1.3.6.1.4.1.14519.5.2.1.330537156452747164108446101172083251641\n",
       "(0020, 1040) Position Reference Indicator        LO: 'OM'\n",
       "(0020, 1041) Slice Location                      DS: \"82.25\"\n",
       "(0028, 0002) Samples per Pixel                   US: 1\n",
       "(0028, 0004) Photometric Interpretation          CS: 'MONOCHROME2'\n",
       "(0028, 0010) Rows                                US: 512\n",
       "(0028, 0011) Columns                             US: 512\n",
       "(0028, 0030) Pixel Spacing                       DS: [0.707031, 0.707031]\n",
       "(0028, 0100) Bits Allocated                      US: 16\n",
       "(0028, 0101) Bits Stored                         US: 16\n",
       "(0028, 0102) High Bit                            US: 15\n",
       "(0028, 0103) Pixel Representation                US: 1\n",
       "(0028, 0303) Longitudinal Temporal Information M CS: 'MODIFIED'\n",
       "(0028, 1050) Window Center                       DS: \"30.0\"\n",
       "(0028, 1051) Window Width                        DS: \"100.0\"\n",
       "(0028, 1052) Rescale Intercept                   DS: \"-1024.0\"\n",
       "(0028, 1053) Rescale Slope                       DS: \"1.0\"\n",
       "(0028, 1054) Rescale Type                        LO: 'HU'\n",
       "(7fe0, 0010) Pixel Data                          OW: Array of 524288 elements"
      ]
     },
     "execution_count": 4,
     "metadata": {},
     "output_type": "execute_result"
    }
   ],
   "source": [
    "ds"
   ]
  },
  {
   "cell_type": "code",
   "execution_count": 27,
   "id": "db9b27ab",
   "metadata": {},
   "outputs": [
    {
     "data": {
      "text/plain": [
       "<matplotlib.image.AxesImage at 0x7f4150b9ed60>"
      ]
     },
     "execution_count": 27,
     "metadata": {},
     "output_type": "execute_result"
    },
    {
     "data": {
      "image/png": "[encoded data removed]",
      "text/plain": [
       "<Figure size 640x480 with 1 Axes>"
      ]
     },
     "metadata": {},
     "output_type": "display_data"
    }
   ],
   "source": [
    "plt.imshow(ds.pixel_array,cmap='gray')"
   ]
  },
  {
   "cell_type": "code",
   "execution_count": 29,
   "id": "45273432",
   "metadata": {},
   "outputs": [
    {
     "data": {
      "text/plain": [
       "(0008, 0008) Image Type                          CS: ['ORIGINAL', 'PRIMARY', 'AXIAL']"
      ]
     },
     "execution_count": 29,
     "metadata": {},
     "output_type": "execute_result"
    }
   ],
   "source": [
    "element = ds[0x00080008]\n",
    "element"
   ]
  },
  {
   "cell_type": "code",
   "execution_count": 35,
   "id": "fb6e15c3",
   "metadata": {},
   "outputs": [
    {
     "data": {
      "text/plain": [
       "(0008, 0020) Study Date                          DA: '20080405'"
      ]
     },
     "execution_count": 35,
     "metadata": {},
     "output_type": "execute_result"
    }
   ],
   "source": [
    "ds[0x00080020]"
   ]
  },
  {
   "cell_type": "code",
   "execution_count": 36,
   "id": "cdd19b78",
   "metadata": {},
   "outputs": [
    {
     "data": {
      "text/plain": [
       "\"140.0\""
      ]
     },
     "execution_count": 36,
     "metadata": {},
     "output_type": "execute_result"
    }
   ],
   "source": [
    "ds.KVP"
   ]
  },
  {
   "cell_type": "code",
   "execution_count": 46,
   "id": "fa25483e",
   "metadata": {},
   "outputs": [
    {
     "data": {
      "text/plain": [
       "(\"140.0\", \"140.0\")"
      ]
     },
     "execution_count": 46,
     "metadata": {},
     "output_type": "execute_result"
    }
   ],
   "source": [
    "ds[0x00180060].value, ds.get(0x00180060, None).value"
   ]
  },
  {
   "cell_type": "code",
   "execution_count": 23,
   "id": "a9555aca",
   "metadata": {},
   "outputs": [
    {
     "data": {
      "text/plain": [
       "'GE MEDICAL SYSTEMS'"
      ]
     },
     "execution_count": 23,
     "metadata": {},
     "output_type": "execute_result"
    }
   ],
   "source": [
    "ds.get('Manufacturer')"
   ]
  },
  {
   "cell_type": "code",
   "execution_count": 14,
   "id": "a7bf268d",
   "metadata": {},
   "outputs": [],
   "source": [
    "dicts = {}\n",
    "\n",
    "dicts['Image'] = 5"
   ]
  },
  {
   "cell_type": "code",
   "execution_count": 36,
   "id": "b108401a",
   "metadata": {},
   "outputs": [
    {
     "ename": "AttributeError",
     "evalue": "module 'pydicom' has no attribute 'img_study_tags'",
     "output_type": "error",
     "traceback": [
      "\u001b[0;31m---------------------------------------------------------------------------\u001b[0m",
      "\u001b[0;31mAttributeError\u001b[0m                            Traceback (most recent call last)",
      "Cell \u001b[0;32mIn[36], line 1\u001b[0m\n\u001b[0;32m----> 1\u001b[0m \u001b[43mdcm\u001b[49m\u001b[38;5;241;43m.\u001b[39;49m\u001b[43mimg_study_tags\u001b[49m\u001b[38;5;241m.\u001b[39mget(\u001b[38;5;241m1\u001b[39m)\n",
      "\u001b[0;31mAttributeError\u001b[0m: module 'pydicom' has no attribute 'img_study_tags'"
     ]
    }
   ],
   "source": [
    "dcm.img_study_tags.get(1)"
   ]
  },
  {
   "cell_type": "code",
   "execution_count": 42,
   "id": "8eb39321",
   "metadata": {},
   "outputs": [],
   "source": [
    "dict_try = {}"
   ]
  },
  {
   "cell_type": "code",
   "execution_count": 52,
   "id": "37908f62",
   "metadata": {},
   "outputs": [],
   "source": [
    "dict_try['try']['9']=0"
   ]
  },
  {
   "cell_type": "code",
   "execution_count": 53,
   "id": "a49ad1b9",
   "metadata": {},
   "outputs": [
    {
     "data": {
      "text/plain": [
       "{'try': {'9': 0}}"
      ]
     },
     "execution_count": 53,
     "metadata": {},
     "output_type": "execute_result"
    }
   ],
   "source": [
    "dict_try"
   ]
  },
  {
   "cell_type": "code",
   "execution_count": 50,
   "id": "556393bf",
   "metadata": {},
   "outputs": [],
   "source": [
    "dict_try['try']= {}"
   ]
  },
  {
   "cell_type": "code",
   "execution_count": 31,
   "id": "cf6d503c",
   "metadata": {},
   "outputs": [],
   "source": [
    "img_study_tags = {1: \"Modality\"}\n",
    "#img_study_tags.get(img_study_tags[0])"
   ]
  },
  {
   "cell_type": "code",
   "execution_count": 19,
   "id": "b9fe5b55",
   "metadata": {},
   "outputs": [],
   "source": [
    "#for path in dicom_paths:\n",
    "import os\n",
    "\n",
    "import SimpleITK as sitk\n",
    "import six\n",
    "import nrrd\n",
    "import pandas as pd\n",
    "from radiomics import featureextractor, getFeatureClasses\n",
    "import numpy as np\n",
    "\n",
    "\n",
    "def get_dicom_tag_value(dicom, keyword, default=None):\n",
    "    '''this function will get the dicom tag from the dicom filde for the given tag/code'''\n",
    "    tag_value = dicom.get(keyword, None)\n",
    "   \n",
    "    if tag_value is None:\n",
    "        return default\n",
    "    #if isinstance(tag_value):\n",
    "     #   return list(tag_value)  \n",
    "    return tag_value\n",
    "\n",
    "def get_img_study(path,dicom):\n",
    "    \n",
    "    tag_label_list = [\"Image Modality\", \"Image Identifier\",\"Body Site\",\"Body Structure\",\n",
    "                      \"Study Date\",\"Study Description\",\"Reason\"]\n",
    "    img_study = {}\n",
    "    img_study_keywords = ['Modality','StudyInstanceUID','AnatomicRegionSequence',\n",
    "                      'PrimaryAnatomicStructureSequence', 'StudyDate', 'StudyDescription',\n",
    "                    'ReasonForPerformedProcedureCodeSequenceAttribute']\n",
    "    \n",
    "    for keyword in range(0,len(img_study_keywords)):\n",
    "        img_study[tag_label_list[keyword]] = get_dicom_tag_value(dicom,img_study_keywords[keyword])\n",
    "        \n",
    "    return img_study\n",
    "\n",
    "def get_pat_data_in_dcm(path,dicom):\n",
    "    pat_keywords=['PatientName','PatientBirthDate','PatientSex',\n",
    "                'EthnicGroup',' PatientAge','PatientWeight']\n",
    "    \n",
    "    pat_labels=[\"Patient Name\",\"Patient's Birth Date\",\"Patient's Sex\",\n",
    "                \"Patient's Ethnic Group\",\"Patient's Age\",\"Patient's Weight\"]\n",
    "    \n",
    "    patient_data = {}\n",
    "    for keyword in range(0,len(pat_keywords)):\n",
    "       \n",
    "        patient_data[pat_labels[keyword]] = get_dicom_tag_value(dicom,pat_keywords[keyword])\n",
    "        \n",
    "    return patient_data \n",
    "\n",
    "def get_acq_tags(path,dicom):\n",
    "    \n",
    "    acquisition_dict = {\"Imaging Protocol\": str(get_dicom_tag_value(dicom,'PerfomedCodeSequenceAttribute')) \n",
    "                        +'\\n' + str(get_dicom_tag_value(dicom,'CodeMeaning'))}\n",
    "            \n",
    "    acq_labels = [\"Scanner Vendor\",\"Scanner Type\",\"Scan Duration\",\n",
    "                [\"Contrast Enhancement/Bolus\",\"Agent\",\"Ingredient\"],\n",
    "                [\"Acquisition Field Of View\",\"Reconstruction FOV Diameter\",\n",
    "                 \"FOV Shape\",\"FOV Dimensions\", \"FOV/Geometry\"],\n",
    "                [\"Patient Instructions\",\"Patient Orientation\",\n",
    "                 \"Instruction Sequence\"]]\n",
    "    \n",
    "    acq_keywords = ['Manufacturer',\n",
    "             'ManufacturerModelName',\n",
    "                'AcquisitionTime',\n",
    "                [\"ContrastBolusAgent\",\n",
    "                \"ContrastBolusIngredient\"],\n",
    "                [\"ReconstructionDiameter\",'FieldOfViewShape','FieldOfViewDimensions',\"PercentPhaseFieldOfView\"],\n",
    "                [\"PatientOrientation\",\"PatientPosition\",\n",
    "                 \"InstructionSequence\"]\n",
    "               ]\n",
    "\n",
    "    #tags_list.append(acq_tags)\n",
    "    \n",
    "    for label in range(0,len(acq_labels)):\n",
    "        if isinstance(acq_labels[label], list):\n",
    "            acquisition_dict[acq_labels[label][0]] = {}\n",
    "            #print(len(acq_labels[label]))\n",
    "            for word in range(1,len(acq_labels[label])):\n",
    "                #print(acq_labels[label][word])\n",
    "                acquisition_dict[acq_labels[label][0]][acq_labels[label][word]]= get_dicom_tag_value(dicom,acq_keywords[label][word-1])\n",
    "        else:\n",
    "             acquisition_dict[acq_labels[label]] = get_dicom_tag_value(dicom,acq_keywords[label])\n",
    "        \n",
    "    return acquisition_dict\n",
    "\n",
    "def recon_parameters(path,dicom):\n",
    "    recon_dict = {}\n",
    "    \n",
    "    recon_labels = [\"Image Type\",\"Slice Thickness (mm)\",\"Slice Spacing (mm)\", \n",
    "                \"Pixel Spacing (mm)\", [\"Reconstruction Technique\",\"Method\",\"Algoritihm\"],\n",
    "                \"Convolution Kernel\"]\n",
    "    \n",
    "    recon_keywords = [\"Modality\",\"SliceThickness\",\"SpacingBetweenSlices\",\"PixelSpacing\",\n",
    "                [\"ReconstructionMethod\",\"ReconstructionAlgorithm\"],\"ConvolutionKernel\"]\n",
    "    \n",
    "    for label in range(0,len(recon_labels)):\n",
    "        if isinstance(recon_labels[label], list):\n",
    "            recon_dict[recon_labels[label][0]] = {}\n",
    "            #print(len(recon_labels[label]))\n",
    "            for word in range(1,len(recon_labels[label])):\n",
    "                #print(recon_labels[label][word])\n",
    "                recon_dict[recon_labels[label][0]][recon_labels[label][word]]= get_dicom_tag_value(dicom,recon_keywords[label][word-1])\n",
    "        else:\n",
    "             recon_dict[recon_labels[label]] = get_dicom_tag_value(dicom,recon_keywords[label])\n",
    "                \n",
    "    return recon_dict\n",
    "    \n",
    "def get_ct_tags(path,dicom):\n",
    "    ct_dict = {}\n",
    "   \n",
    "    ct_tags = [\"ImageType\",\"ScanOptions\",\"KVP\",\n",
    "                \"XRayTubeCurrent\", \"ExposureTime\",\"SpiralPitchFactor\",\n",
    "               \"ImageFilter\"]\n",
    "                #\"Acquisition Field Of View\": {\"Scan Field of View\": dicom.DataCollectionDiameter,\"Reconstruction FOV Diameter\": dicom.ReconstructionDiameter,\n",
    "                #\"FOV Origin\": dicom.FieldOfViewOrigin},\n",
    "                #\"Image Orientation Patient\": list(dicom.ImageOrientationPatient),\n",
    "               # \"Series Instance UID\": str(dicom.SeriesInstanceUID),\n",
    "            \n",
    "    ct_labels = [\"Image Type\", \"Scan Mode\",\"KVP\",\"XRayTubeCurrent\",\"Exposure (msec)\",\n",
    "               \"Spiral Pitch\",\"Image Filter\"]\n",
    "                #\"Acquisition Field Of View\": {\"Scan Field of View\": dicom.DataCollectionDiameter,\"Reconstruction FOV Diameter\": dicom.ReconstructionDiameter,\n",
    "                #\"FOV Origin\": dicom.FieldOfViewOrigin},\n",
    "                #\"Image Orientation Patient\": list(dicom.ImageOrientationPatient),\n",
    "               # \"Series Instance UID\": str(dicom.SeriesInstanceUID),\n",
    "            \n",
    "    for keyword in range(0,len(ct_tags)):\n",
    "       \n",
    "        ct_dict[ct_labels[keyword]] = get_dicom_tag_value(dicom,ct_tags[keyword])\n",
    "        \n",
    "    return ct_dict\n",
    "    \n",
    "\n",
    "def get_mri_tags(path,dicom):\n",
    "    mri_dict = {}\n",
    "   \n",
    "    mri_tags = [\"ImageType\",\"SequenceName\",\"MagneticFieldStrength\",\"RepetitionTime\",\"EchoTime\",\n",
    "                \"EchoTrainLength\",\"InversionTime\",\"FlipAngle\",\"NumberOfAverages\",\"GeometryOfKSpaceTraversal\"]\n",
    "    \n",
    "    mri_labels = [\"Image Type\",\"Scanning Sequence Acquired\",\"Magnetic Field Strength\",\n",
    "                \"Repetition Time\",\"Echo Time\",\"Echo Time Length\",\"Inversion Time\",\n",
    "                \"Flip Angle\",\"Number of Excitations\",\"k-Space Trajectory\"]\n",
    "    for keyword in range(0,len(mri_tags)):\n",
    "       \n",
    "        mri_dict[mri_labels[keyword]] = get_dicom_tag_value(dicom,mri_tags[keyword])\n",
    "    \n",
    "    return mri_dict\n",
    "\n",
    "def get_pet_tags(path,dicom):\n",
    "    pet_dict = {}\n",
    "   \n",
    "    pet_tags = [\"ImageType\",\"Radiopharmaceutical\",\"RadiopharmaceuticalAdministrationEventUID\",\n",
    "                #\"Uptake Time\": dicom.RepetitionTime,\n",
    "                 \"RadionuclideTotalDose\",\"TimeOfFlightinformationUsed\",\n",
    "               \"CorrectedImage\",\"TypeOfDetectorMotion\"]\n",
    "    \n",
    "    pet_labels = [\"Image Type\",\"Radioactive Tracer\",\"Radioactive Tracer Admin. Method\",\n",
    "                #\"Uptake Time\": dicom.RepetitionTime,\n",
    "                 \"Injected Activity\", \"Time-of-flight\",\"Image Correction Method\",\"Type of Detector Bed Motion\"]\n",
    "               \n",
    "    #            \"Point-Spread Function Modelling\": }\n",
    "    for keyword in range(0,len(pet_tags)):\n",
    "       \n",
    "        pet_dict[pet_labels[keyword]] = get_dicom_tag_value(dicom,pet_tags[keyword])\n",
    "    \n",
    "    return pet_dict\n",
    "\n",
    "\n",
    "def get_set_images(dir_image_path):\n",
    "    format_image = os.listdir(dir_image_path)[0].split('.')[-1]\n",
    "    if format_image=='dcm':\n",
    "        img_files = sorted([os.path.join(dir_image_path, x) for x in os.listdir(dir_image_path) if '.dcm' in x])\n",
    "    \n",
    "    elif format_image=='nii':\n",
    "        img_files = sorted([os.path.join(dir_image_path, x) for x in os.listdir(dir_image_path) if '.nii' in x])\n",
    "    \n",
    "    elif format_image=='nrrd':\n",
    "        img_files = sorted([os.path.join(dir_image_path, x) for x in os.listdir(dir_image_path) if '.nrrd' in x])\n",
    "    \n",
    "    return\n",
    "\n",
    "def get_set_masks(dir_mask_path,ROI):\n",
    "    \n",
    "    mask_files = sorted([os.path.join(dir_mask_path, x) for x in os.listdir(dir_mask_path) if '.nii.gz' in x])\n",
    "\n",
    "    return\n",
    "\n",
    "#'''code from chunweilu'''\n",
    "\n",
    "def save_img_and_mask_as_nrrd(img_series, structure_name, structure, save_paths):\n",
    "    img_file_name = img_series.name + \"_\" + img_series.acquisition_date + \".nrrd\"\n",
    "    struct_file_name = img_series.name + \"_\" + img_series.acquisition_date + \"__\" + structure_name + \"__\"  #put whole or ss number after, and .nrrd\n",
    "    whole_roi_mask = structure.whole_roi_masks\n",
    "    #subseg_masks = structure.subseg_masks\n",
    "\n",
    "    if type(save_paths) is list and len(save_paths) > 1:\n",
    "        img_save_path = os.path.join(save_paths[0], img_file_name)\n",
    "        struct_save_path = os.path.join(save_paths[1], struct_file_name)\n",
    "    elif type(save_paths) is list and len(save_paths) == 1:\n",
    "        img_save_path = os.path.join(save_paths[0], img_file_name)\n",
    "        struct_save_path = os.path.join(save_paths[0], struct_file_name)\n",
    "    elif type(save_paths) == str:\n",
    "        img_save_path = os.path.join(save_paths, img_file_name)\n",
    "        struct_save_path = os.path.join(save_paths, struct_file_name)    \n",
    "    if save_paths is None:  \n",
    "        img_save_path = os.path.join(os.getcwd(), img_file_name) \n",
    "        struct_save_path = os.path.join(os.getcwd(), struct_file_name)   \n",
    "    \n",
    "    \n",
    "    #first need to swap the rows and columns of image and masks because nrrd wants first dimension to be width, second to be height . also sort from largest z to smallest instead of smallest to largest\n",
    "    img = np.swapaxes(img_series.image_array, 0,2)\n",
    "    \n",
    "    #make the header\n",
    "    header = {'kinds': ['domain', 'domain', 'domain'], 'units': ['mm','mm', 'mm'], 'spacings': [float(img_series.pixel_spacing[1]), float(img_series.pixel_spacing[0]), float(img_series.slice_thickness)]} #'space directions': np.array([[1,0,0], [0,1,0],[0,0,1]])\n",
    "    try:\n",
    "        nrrd.write(img_save_path, img, header)    \n",
    "        print(f\"Wrote nrrd file {img_file_name} to {img_save_path}\")\n",
    "    except:\n",
    "        print(f\"Failed to write nrrd file {img_file_name} to {img_save_path}\")\n",
    "\n",
    "    whole_roi_mask = np.swapaxes(whole_roi_mask,0,2)     \n",
    "    try:\n",
    "        nrrd.write(str(struct_save_path + \"whole__.nrrd\"), whole_roi_mask, header)\n",
    "        print(f\"Wrote nrrd file {struct_file_name} to {str(struct_save_path + 'whole__.nrrd')}\")\n",
    "    except:    \n",
    "        print(f\"Failed to write nrrd file {struct_file_name} to {struct_save_path}\")    \n",
    "\n",
    "  #  for s,subseg in enumerate(subseg_masks):\n",
    "   #     subseg = np.swapaxes(subseg, 0, 2)\n",
    "    #    try:\n",
    "     #       nrrd.write(str(struct_save_path + str(s) + \"__.nrrd\"), subseg, header)\n",
    "      #      print(f\"Wrote nrrd file {struct_file_name} to {struct_save_path + str(s) + '__.nrrd'}\")\n",
    "       # except:    \n",
    "        #    print(f\"Failed to write nrrd file {struct_file_name} to {struct_save_path + str(s) + '__.nrrd'}\")         \n",
    "    return\n",
    "   \n",
    "def get_settings(param_files):\n",
    "    return\n",
    "\n",
    "def get_dosiomics(methos,DoseDistName,maskName):\n",
    "    return\n",
    "def get_radiomics(method,imageName,maskName,ROIName):\n",
    "    \n",
    "    software_version = radiomics.__version__\n",
    "    parameters = os.path.abspath(os.path.join('setting.yaml'))\n",
    "                \n",
    "    input_csv_t2 = [[\"ID\", \"Image\", \"Mask\"]]\n",
    "    for msk_file in msk_files:\n",
    "        patient_id = os.path.basename(msk_file)[:14]\n",
    "        image = [x for x in img_files if patient_id in x][0]\n",
    "        input_csv_t2.append([patient_id, image, msk_file])\n",
    "                \n",
    "    #params = os.path.join(dataDir, \"examples\", \"exampleSettings\", \"Params.yaml\")\n",
    "    extractor = featureextractor.RadiomicsFeatureExtractor(params)\n",
    "    featureClasses = getFeatureClasses()\n",
    "    #featureVector = extractor.execute(image,image)\n",
    "    if method=='voxel':                \n",
    "        featureVector = extractor.execute(imageName, maskName, voxelBased=True)\n",
    "        for key, val in six.iteritems(result):\n",
    "            if isinstance(val, sitk.Image):  # Feature map\n",
    "                sitk.WriteImage(val, key + '.nrrd', True)\n",
    "    else:\n",
    "         featureVector = extractor.execute(imageName, maskName)\n",
    "     \n",
    "    feature_dict = {'ROI Name': ROIName}\n",
    "    parameters_dict= {}\n",
    "    \n",
    "    features_names = []\n",
    "    for feature in list(fetaureVector):\n",
    "        \n",
    "        \n",
    "        \n",
    "   # print(\"Stored feature %s in %s\" % (key, key + \".nrrd\"))\n",
    "  #else:  # Diagnostic information\n",
    "   # print(\"\\t%s: %s\" %(key, val))\n",
    "                    \n",
    "                \n",
    "def get_data_from_csv(path):\n",
    "    return\n",
    "\n",
    "def get_data_from_documents(path,type):\n",
    "    if type=='csv':\n",
    "        get_data_from_csv(path)\n",
    "\n",
    "#########################\n",
    "path = path_public_data+'/1-116.dcm'\n",
    "dicom = dcm.dcmread(path, force=True)\n",
    "img_study_dict = get_img_study(path,dicom)\n",
    "pat_data_dict = get_pat_data_in_dcm(path,dicom)\n",
    "acq_data_dict =get_acq_tags(path,dicom)\n",
    "recon_data_dict =recon_parameters(path,dicom)\n",
    "\n",
    "if str(img_study_dict['Image Modality']).lower()=='ct' or str(img_study_dict['Image Modality']).lower()=='cbct':    \n",
    "    ct_dict_data = get_ct_tags(path,dicom)\n",
    "    with open(\"CT_.json\", \"w\") as outfile: \n",
    "        json.dump(student_details, outfile)\n",
    "elif img_study_dict['Image Modality']=='MRI':\n",
    "mri_dict_data = get_mri_tags(path,dicom)\n",
    "pet_dict_data = get_pet_tags(path,dicom)"
   ]
  },
  {
   "cell_type": "code",
   "execution_count": 21,
   "id": "d1b791b3",
   "metadata": {},
   "outputs": [
    {
     "data": {
      "text/plain": [
       "{'Image Modality': 'CT',\n",
       " 'Image Identifier': '1.3.6.1.4.1.14519.5.2.1.87280299921066333751442475150382681839',\n",
       " 'Body Site': None,\n",
       " 'Body Structure': None,\n",
       " 'Study Date': '20080405',\n",
       " 'Study Description': 'BRAIN',\n",
       " 'Reason': None}"
      ]
     },
     "execution_count": 21,
     "metadata": {},
     "output_type": "execute_result"
    }
   ],
   "source": [
    "img_study_dict"
   ]
  },
  {
   "cell_type": "code",
   "execution_count": null,
   "id": "27989690",
   "metadata": {},
   "outputs": [],
   "source": []
  }
 ],
 "metadata": {
  "kernelspec": {
   "display_name": "Python 3 (ipykernel)",
   "language": "python",
   "name": "python3"
  },
  "language_info": {
   "codemirror_mode": {
    "name": "ipython",
    "version": 3
   },
   "file_extension": ".py",
   "mimetype": "text/x-python",
   "name": "python",
   "nbconvert_exporter": "python",
   "pygments_lexer": "ipython3",
   "version": "3.8.10"
  }
 },
 "nbformat": 4,
 "nbformat_minor": 5
}
