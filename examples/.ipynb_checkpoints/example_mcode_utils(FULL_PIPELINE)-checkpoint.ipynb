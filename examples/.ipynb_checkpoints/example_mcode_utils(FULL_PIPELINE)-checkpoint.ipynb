{
 "cells": [
  {
   "cell_type": "code",
   "execution_count": 1,
   "id": "07a03228-daa4-4003-968c-8f9d77249729",
   "metadata": {},
   "outputs": [],
   "source": [
    "import pydicom as dcm\n",
    "import numpy as np\n",
    "import pandas as pd\n",
    "from matplotlib import pyplot as plt\n",
    "import json\n",
    "import sys\n",
    "import os\n",
    "sys.path.append('../utils')\n",
    "import radiomics_utils\n",
    "from radiomics_utils import *\n",
    "import mcode_utils\n",
    "from mcode_utils import *\n",
    "import dicom_utils\n",
    "from dicom_utils import *"
   ]
  },
  {
   "cell_type": "code",
   "execution_count": 2,
   "id": "25b8f98b-bc5d-4c93-9fbb-504829d91736",
   "metadata": {},
   "outputs": [],
   "source": [
    "#import getpass\n",
    "#password = getpass.getpass(\"Sudo password: \")"
   ]
  },
  {
   "cell_type": "markdown",
   "id": "0064e664-e756-44bc-8316-a4e70ea895b6",
   "metadata": {},
   "source": [
    "## Creates folders and sorts them. Extract the mCODE extension elements for images, radiomics, and dosiomics"
   ]
  },
  {
   "cell_type": "code",
   "execution_count": 84,
   "id": "2571e468-b274-4ddb-a649-7125dbf3ca60",
   "metadata": {},
   "outputs": [],
   "source": [
    "path_patient = '../examples/GBM_burdenko_example/1'\n",
    "path_save  = '../examples/output_example'\n",
    "if not os.path.isdir(path_save):\n",
    "    os.makedirs(path_save)"
   ]
  },
  {
   "cell_type": "code",
   "execution_count": 85,
   "id": "7304f454-a250-4522-ae8e-e9b419cfeba4",
   "metadata": {},
   "outputs": [
    {
     "name": "stdout",
     "output_type": "stream",
     "text": [
      "The folder '../examples/output_example/1' exists.\n",
      "The folder '../examples/output_example/1/medical_images' exists.\n",
      "The folder '../examples/output_example/1/radiomics' exists.\n",
      "The folder '../examples/output_example/1/dosiomics' exists.\n",
      "The folder '../examples/output_example/1/dosimetrics' does not exist\n",
      "############### CREATING FOLDER ################\n",
      "Folder created sucessfully\n",
      "\n",
      "\n"
     ]
    }
   ],
   "source": [
    "#Create the folders for given the patient path and the path to save\n",
    "new_path_save_images, folder_path_radiomics, folder_path_dosiomics, folder_path_dosimetric, folder_path = mcode_utils.create_main_paths_per_patient(path_patient,path_save)"
   ]
  },
  {
   "cell_type": "code",
   "execution_count": 86,
   "id": "08eb0af8-038f-4d67-af74-432724c7cd4e",
   "metadata": {},
   "outputs": [],
   "source": [
    "#GET THE PATH OF THE IMAGES FORM THE EXAMPLE\n",
    "paths_images_all = get_all_folder_images(path_patient)"
   ]
  },
  {
   "cell_type": "code",
   "execution_count": 102,
   "id": "30a0c7a2-3c00-4a43-a912-0d66335287fd",
   "metadata": {},
   "outputs": [],
   "source": [
    "def search_RD_path(dir_RD_path,RT_ref=None,dicoPATH=False):    \n",
    "    if dicoPATH==False:\n",
    "        if RT_ref!=None:\n",
    "            RD_files = sorted([os.path.join(dir_RD_path, x) for x in os.listdir(dir_RD_path) if '.dcm' in x])\n",
    "            slices = [dcm.dcmread(j, force=True) for j in RD_files]\n",
    "            if len(slices)!=0:\n",
    "                try:\n",
    "                    if slices[0].Modality=='RTDOSE' and slices[0].FrameOfReferenceUID==RT_ref:\n",
    "                        return True\n",
    "                except:\n",
    "                    if slices[0][0x0008, 0x0016].value=='1.2.840.10008.5.1.4.1.1.481.2' and slices[0].FrameOfReferenceUID==RT_ref:\n",
    "                        return True\n",
    "\n",
    "\n",
    "def get_dirs_RD(paths_RT,dicoPATH=False):\n",
    "    paths = {}\n",
    "    for key in paths_RT.items():\n",
    "        RT_path = paths_RT[key[0]]\n",
    "        if dicoPATH==False:\n",
    "            RT_files = sorted([os.path.join(RT_path, x) for x in os.listdir(RT_path) if '.dcm' in x])\n",
    "            slices = [dcm.dcmread(j, force=True) for j in RT_files]\n",
    "            for path_2 in paths_images_all:\n",
    "                RD_file = search_RD_path(path_2,slices[0].ReferencedFrameOfReferenceSequence[0].FrameOfReferenceUID)\n",
    "                if RD_file==True:\n",
    "                    paths[RT_path] = path_2\n",
    "                else:\n",
    "                    continue\n",
    "        else:\n",
    "            path_RD = get_path_RD_dicoPATH(RT_path)\n",
    "            paths[RT_path] = path_RD\n",
    "    return paths\n",
    "    \n",
    "def search_RS_path(dir_RS_path,image_UID=None,dicoPATH=False):    \n",
    "    if image_UID!=None:\n",
    "        RS_files = sorted([os.path.join(dir_RS_path, x) for x in os.listdir(dir_RS_path) if '.dcm' in x])\n",
    "        slices = [dcm.dcmread(j, force=True) for j in RS_files]\n",
    "        if len(slices)!=0:\n",
    "            try: \n",
    "                if slices[0].Modality=='RTSTRUCT' and slices[0].StructureSetLabel==image_UID:\n",
    "                    return True\n",
    "                elif slices[0][0x0008, 0x0016].value=='1.2.840.10008.5.1.4.1.1.481.3' and slices[0].StructureSetLabel==image_UID:\n",
    "                    return True\n",
    "                else:\n",
    "                    print('############  Check RT format ############')\n",
    "            except:\n",
    "                print('The RT Structure file does not have StructureSetLabel Tag or Modality')\n",
    "                #uid_rt = slices[0].ReferencedFrameOfReferenceSequence[0].RTReferencedStudySequence[0].RTReferencedSeriesSequence[0]\n",
    "                #if slices[0].Modality=='RTSTRUCT' and uid_rt==image_UID:\n",
    "                ##\n",
    "        \n",
    "def get_dirs_RT(paths_images_all,dicoPATH=False):\n",
    "    paths = {}\n",
    "    for path in paths_images_all:\n",
    "        set_images = get_set_images(path)\n",
    "        if len(set_images)!=0:\n",
    "            if dicoPATH==False:\n",
    "                for path_2 in paths_images_all:\n",
    "                    print(set_images[0])\n",
    "                    RS_file = search_RS_path(path_2,set_images[0].ReferencedSOPInstanceUID)\n",
    "                    if RS_file==True:\n",
    "                        paths[path] = path_2\n",
    "                    else:\n",
    "                        continue\n",
    "            else:\n",
    "                if path.split('/')[-1][9:11] == 'CT' and len(path.split('/')[-1])==23:\n",
    "                    path_RS = get_path_RS_dicoPATH(path)\n",
    "                    paths[path] = path_RS\n",
    "                else:\n",
    "                    continue\n",
    "    return paths\n",
    "    \n",
    "def search_RS_file(path,image_UID=None):\n",
    "    RS_files = get_set_RS_path(path,image_UID)\n",
    "    return RS_files\n",
    "\n",
    "def get_path_RS_dicoPATH(path_CT):   \n",
    "    '''Gets the RS path (Rt structure file) for the CT folder'''  \n",
    "    file_RS = [x for x in os.listdir(path_CT) if 'RS' in x][0]\n",
    "    return os.path.join(path_CT, file_RS)\n",
    "\n",
    "def get_path_RD_dicoPATH(path_RS): \n",
    "    path_RS2 = '/'.join(path_RS.split('/')[:-1])\n",
    "    file_RD = [x for x in os.listdir(path_RS2) if 'RD' in x]\n",
    "    files = [[dcm.dcmread(path_RS2+'/'+x).InstanceCreationTime,x] for x in file_RD]\n",
    "    sorted_data = sorted(files)# finds the RD file with the name RD.######.dcm\n",
    "    return os.path.join(path_RS2, sorted_data[-1][-1])\n"
   ]
  },
  {
   "cell_type": "code",
   "execution_count": 103,
   "id": "79188680-9f24-4764-9a66-5e5774887f5c",
   "metadata": {},
   "outputs": [
    {
     "name": "stdout",
     "output_type": "stream",
     "text": [
      "Dataset.file_meta -------------------------------\n",
      "(0002, 0000) File Meta Information Group Length  UL: 204\n",
      "(0002, 0001) File Meta Information Version       OB: b'\\x00\\x01'\n",
      "(0002, 0002) Media Storage SOP Class UID         UI: CT Image Storage\n",
      "(0002, 0003) Media Storage SOP Instance UID      UI: 1.3.6.1.4.1.14519.5.2.1.204275413579935378693906623868620316607\n",
      "(0002, 0010) Transfer Syntax UID                 UI: Implicit VR Little Endian\n",
      "(0002, 0012) Implementation Class UID            UI: 1.3.6.1.4.1.22213.1.143\n",
      "(0002, 0013) Implementation Version Name         SH: '0.5'\n",
      "(0002, 0016) Source Application Entity Title     AE: 'POSDA'\n",
      "-------------------------------------------------\n",
      "(0008, 0005) Specific Character Set              CS: 'ISO_IR 192'\n",
      "(0008, 0008) Image Type                          CS: ['ORIGINAL', 'PRIMARY', 'AXIAL']\n",
      "(0008, 0012) Instance Creation Date              DA: '20040506'\n",
      "(0008, 0013) Instance Creation Time              TM: '140330'\n",
      "(0008, 0016) SOP Class UID                       UI: CT Image Storage\n",
      "(0008, 0018) SOP Instance UID                    UI: 1.3.6.1.4.1.14519.5.2.1.204275413579935378693906623868620316607\n",
      "(0008, 0020) Study Date                          DA: '20040506'\n",
      "(0008, 0021) Series Date                         DA: '20040506'\n",
      "(0008, 0022) Acquisition Date                    DA: '20040506'\n",
      "(0008, 0023) Content Date                        DA: '20040506'\n",
      "(0008, 0030) Study Time                          TM: '133626'\n",
      "(0008, 0031) Series Time                         TM: '133933'\n",
      "(0008, 0032) Acquisition Time                    TM: '133949.687'\n",
      "(0008, 0033) Content Time                        TM: '133952'\n",
      "(0008, 0050) Accession Number                    SH: ''\n",
      "(0008, 0060) Modality                            CS: 'CT'\n",
      "(0008, 0070) Manufacturer                        LO: 'GE MEDICAL SYSTEMS'\n",
      "(0008, 0090) Referring Physician's Name          PN: ''\n",
      "(0008, 1030) Study Description                   LO: 'Radiotherapy planning 00'\n",
      "(0008, 103e) Series Description                  LO: 'CT00CT'\n",
      "(0008, 1080) Admitting Diagnoses Description     LO: 'high grade glioma/glioblastoma'\n",
      "(0008, 1090) Manufacturer's Model Name           LO: 'Optima CT580'\n",
      "(0008, 1140)  Referenced Image Sequence  1 item(s) ---- \n",
      "   (0008, 1150) Referenced SOP Class UID            UI: CT Image Storage\n",
      "   (0008, 1155) Referenced SOP Instance UID         UI: 1.3.6.1.4.1.14519.5.2.1.127316590047021268513519701476515394071\n",
      "   ---------\n",
      "(0010, 0010) Patient's Name                      PN: 'Burdenko-GBM-001'\n",
      "(0010, 0020) Patient ID                          LO: 'Burdenko-GBM-001'\n",
      "(0010, 0030) Patient's Birth Date                DA: ''\n",
      "(0010, 0040) Patient's Sex                       CS: 'F'\n",
      "(0012, 0062) Patient Identity Removed            CS: 'YES'\n",
      "(0012, 0063) De-identification Method            LO: 'Per DICOM PS 3.15 AnnexE. Details in 0012,0064'\n",
      "(0012, 0064)  De-identification Method Code Sequence  8 item(s) ---- \n",
      "   (0008, 0100) Code Value                          SH: '113100'\n",
      "   (0008, 0102) Coding Scheme Designator            SH: 'DCM'\n",
      "   (0008, 0104) Code Meaning                        LO: 'Basic Application Confidentiality Profile'\n",
      "   ---------\n",
      "   (0008, 0100) Code Value                          SH: '113101'\n",
      "   (0008, 0102) Coding Scheme Designator            SH: 'DCM'\n",
      "   (0008, 0104) Code Meaning                        LO: 'Clean Pixel Data Option'\n",
      "   ---------\n",
      "   (0008, 0100) Code Value                          SH: '113104'\n",
      "   (0008, 0102) Coding Scheme Designator            SH: 'DCM'\n",
      "   (0008, 0104) Code Meaning                        LO: 'Clean Structured Content Option'\n",
      "   ---------\n",
      "   (0008, 0100) Code Value                          SH: '113105'\n",
      "   (0008, 0102) Coding Scheme Designator            SH: 'DCM'\n",
      "   (0008, 0104) Code Meaning                        LO: 'Clean Descriptors Option'\n",
      "   ---------\n",
      "   (0008, 0100) Code Value                          SH: '113107'\n",
      "   (0008, 0102) Coding Scheme Designator            SH: 'DCM'\n",
      "   (0008, 0104) Code Meaning                        LO: 'Retain Longitudinal Temporal Information Modified Dates Option'\n",
      "   ---------\n",
      "   (0008, 0100) Code Value                          SH: '113108'\n",
      "   (0008, 0102) Coding Scheme Designator            SH: 'DCM'\n",
      "   (0008, 0104) Code Meaning                        LO: 'Retain Patient Characteristics Option'\n",
      "   ---------\n",
      "   (0008, 0100) Code Value                          SH: '113109'\n",
      "   (0008, 0102) Coding Scheme Designator            SH: 'DCM'\n",
      "   (0008, 0104) Code Meaning                        LO: 'Retain Device Identity Option'\n",
      "   ---------\n",
      "   (0008, 0100) Code Value                          SH: '113111'\n",
      "   (0008, 0102) Coding Scheme Designator            SH: 'DCM'\n",
      "   (0008, 0104) Code Meaning                        LO: 'Retain Safe Private Option'\n",
      "   ---------\n",
      "(0013, 0010) Private Creator                     LO: 'CTP'\n",
      "(0013, 1010) Private tag data                    UN: Array of 24 elements\n",
      "(0013, 1013) Private tag data                    UN: b'74002725'\n",
      "(0018, 0022) Scan Options                        CS: 'HELICAL MODE'\n",
      "(0018, 0050) Slice Thickness                     DS: '1.25'\n",
      "(0018, 0060) KVP                                 DS: '120.0'\n",
      "(0018, 0090) Data Collection Diameter            DS: '500.0'\n",
      "(0018, 1020) Software Versions                   LO: 'qin.3'\n",
      "(0018, 1100) Reconstruction Diameter             DS: '382.0'\n",
      "(0018, 1110) Distance Source to Detector         DS: '1062.55'\n",
      "(0018, 1111) Distance Source to Patient          DS: '605.945'\n",
      "(0018, 1120) Gantry/Detector Tilt                DS: '0.0'\n",
      "(0018, 1130) Table Height                        DS: '221.0'\n",
      "(0018, 1140) Rotation Direction                  CS: 'CW'\n",
      "(0018, 1150) Exposure Time                       IS: '897'\n",
      "(0018, 1151) X-Ray Tube Current                  IS: '491'\n",
      "(0018, 1152) Exposure                            IS: '22'\n",
      "(0018, 1160) Filter Type                         SH: 'BODY FILTER'\n",
      "(0018, 1170) Generator Power                     IS: '66000'\n",
      "(0018, 1190) Focal Spot(s)                       DS: '1.2'\n",
      "(0018, 1210) Convolution Kernel                  SH: 'STANDARD'\n",
      "(0018, 5100) Patient Position                    CS: 'HFS'\n",
      "(0020, 000d) Study Instance UID                  UI: 1.3.6.1.4.1.14519.5.2.1.263048362707067743353550175629196601357\n",
      "(0020, 000e) Series Instance UID                 UI: 1.3.6.1.4.1.14519.5.2.1.20417500794672593138065669875767558964\n",
      "(0020, 0010) Study ID                            SH: ''\n",
      "(0020, 0011) Series Number                       IS: '2'\n",
      "(0020, 0012) Acquisition Number                  IS: '1'\n",
      "(0020, 0013) Instance Number                     IS: '1'\n",
      "(0020, 0032) Image Position (Patient)            DS: [-191, -191, -106.25]\n",
      "(0020, 0037) Image Orientation (Patient)         DS: [1, 0, 0, 0, 1, 0]\n",
      "(0020, 0052) Frame of Reference UID              UI: 1.3.6.1.4.1.14519.5.2.1.151315482802192106755560105964415801607\n",
      "(0020, 1040) Position Reference Indicator        LO: 'OM'\n",
      "(0020, 1041) Slice Location                      DS: '-106.25'\n",
      "(0028, 0002) Samples per Pixel                   US: 1\n",
      "(0028, 0004) Photometric Interpretation          CS: 'MONOCHROME2'\n",
      "(0028, 0010) Rows                                US: 512\n",
      "(0028, 0011) Columns                             US: 512\n",
      "(0028, 0030) Pixel Spacing                       DS: [0.746094, 0.746094]\n",
      "(0028, 0100) Bits Allocated                      US: 16\n",
      "(0028, 0101) Bits Stored                         US: 16\n",
      "(0028, 0102) High Bit                            US: 15\n",
      "(0028, 0103) Pixel Representation                US: 1\n",
      "(0028, 0303) Longitudinal Temporal Information M CS: 'MODIFIED'\n",
      "(0028, 1050) Window Center                       DS: '50.0'\n",
      "(0028, 1051) Window Width                        DS: '130.0'\n",
      "(0028, 1052) Rescale Intercept                   DS: '-1000.0'\n",
      "(0028, 1053) Rescale Slope                       DS: '1.0'\n",
      "(0028, 1054) Rescale Type                        LO: 'HU'\n",
      "(300e, 0008) Reviewer Name                       PN: ''\n",
      "(7fe0, 0010) Pixel Data                          OW: Array of 524288 elements\n"
     ]
    },
    {
     "ename": "AttributeError",
     "evalue": "'FileDataset' object has no attribute 'ReferencedSOPInstanceUID'",
     "output_type": "error",
     "traceback": [
      "\u001b[0;31m---------------------------------------------------------------------------\u001b[0m",
      "\u001b[0;31mAttributeError\u001b[0m                            Traceback (most recent call last)",
      "Cell \u001b[0;32mIn[103], line 1\u001b[0m\n\u001b[0;32m----> 1\u001b[0m paths_RT \u001b[38;5;241m=\u001b[39m \u001b[43mget_dirs_RT\u001b[49m\u001b[43m(\u001b[49m\u001b[43mpaths_images_all\u001b[49m\u001b[43m,\u001b[49m\u001b[38;5;28;43;01mFalse\u001b[39;49;00m\u001b[43m)\u001b[49m\n\u001b[1;32m      2\u001b[0m paths_RT\n",
      "Cell \u001b[0;32mIn[102], line 59\u001b[0m, in \u001b[0;36mget_dirs_RT\u001b[0;34m(paths_images_all, dicoPATH)\u001b[0m\n\u001b[1;32m     57\u001b[0m \u001b[38;5;28;01mfor\u001b[39;00m path_2 \u001b[38;5;129;01min\u001b[39;00m paths_images_all:\n\u001b[1;32m     58\u001b[0m     \u001b[38;5;28mprint\u001b[39m(set_images[\u001b[38;5;241m0\u001b[39m])\n\u001b[0;32m---> 59\u001b[0m     RS_file \u001b[38;5;241m=\u001b[39m search_RS_path(path_2,\u001b[43mset_images\u001b[49m\u001b[43m[\u001b[49m\u001b[38;5;241;43m0\u001b[39;49m\u001b[43m]\u001b[49m\u001b[38;5;241;43m.\u001b[39;49m\u001b[43mReferencedSOPInstanceUID\u001b[49m)\n\u001b[1;32m     60\u001b[0m     \u001b[38;5;28;01mif\u001b[39;00m RS_file\u001b[38;5;241m==\u001b[39m\u001b[38;5;28;01mTrue\u001b[39;00m:\n\u001b[1;32m     61\u001b[0m         paths[path] \u001b[38;5;241m=\u001b[39m path_2\n",
      "File \u001b[0;32m/data/odette/p3venv/lib/python3.10/site-packages/pydicom/dataset.py:908\u001b[0m, in \u001b[0;36mDataset.__getattr__\u001b[0;34m(self, name)\u001b[0m\n\u001b[1;32m    906\u001b[0m     \u001b[38;5;28;01mreturn\u001b[39;00m {}\n\u001b[1;32m    907\u001b[0m \u001b[38;5;66;03m# Try the base class attribute getter (fix for issue 332)\u001b[39;00m\n\u001b[0;32m--> 908\u001b[0m \u001b[38;5;28;01mreturn\u001b[39;00m \u001b[38;5;28;43mobject\u001b[39;49m\u001b[38;5;241;43m.\u001b[39;49m\u001b[38;5;21;43m__getattribute__\u001b[39;49m\u001b[43m(\u001b[49m\u001b[38;5;28;43mself\u001b[39;49m\u001b[43m,\u001b[49m\u001b[43m \u001b[49m\u001b[43mname\u001b[49m\u001b[43m)\u001b[49m\n",
      "\u001b[0;31mAttributeError\u001b[0m: 'FileDataset' object has no attribute 'ReferencedSOPInstanceUID'"
     ]
    }
   ],
   "source": [
    "paths_RT = get_dirs_RT(paths_images_all,False)\n",
    "paths_RT"
   ]
  },
  {
   "cell_type": "code",
   "execution_count": 76,
   "id": "ddb81b8b-2147-41eb-8fc6-3101dd16d993",
   "metadata": {},
   "outputs": [
    {
     "data": {
      "text/plain": [
       "{'/mnt/iDriveShare/Kayla/CBCT_images/kayla_extracted/19/20180411_CT_09_APR_2018/RS.1.2.246.352.221.517676499749755326116065057580640769465.dcm': '/mnt/iDriveShare/Kayla/CBCT_images/kayla_extracted/19/20180411_CT_09_APR_2018/RD.1.2.246.352.221.496653093475654566110581392788903530119.dcm',\n",
       " '/mnt/iDriveShare/Kayla/CBCT_images/kayla_extracted/19/20180515_CT_10_MAY_2018/RS.1.2.246.352.221.512918800176871666811861798212289084078.dcm': '/mnt/iDriveShare/Kayla/CBCT_images/kayla_extracted/19/20180515_CT_10_MAY_2018/RD.1.2.246.352.221.51974249515870709541297634066003681696.dcm'}"
      ]
     },
     "execution_count": 76,
     "metadata": {},
     "output_type": "execute_result"
    }
   ],
   "source": [
    "paths_RD = get_dirs_RD(paths_RT,True)\n",
    "paths_RD"
   ]
  },
  {
   "cell_type": "code",
   "execution_count": 30,
   "id": "7fd9b5b8-f23c-40f0-b9a8-4e390a53a2e9",
   "metadata": {},
   "outputs": [
    {
     "name": "stdout",
     "output_type": "stream",
     "text": [
      "../examples/GBM_burdenko_example/1/2.000000-RTSTRUCT-92306\n",
      "../examples/GBM_burdenko_example/1/1.000000-RTSTRUCT-83947\n",
      "../examples/GBM_burdenko_example/1/0.000000-RTSTRUCT-45697\n"
     ]
    }
   ],
   "source": [
    "for key in paths_RT.items():\n",
    "    print(paths_RT[key[0]])"
   ]
  },
  {
   "cell_type": "code",
   "execution_count": 42,
   "id": "fd4c41e5-314a-4d1d-ab31-1570f4ddd0d6",
   "metadata": {},
   "outputs": [
    {
     "name": "stdout",
     "output_type": "stream",
     "text": [
      "../examples/GBM_burdenko_example/1/5.000000-RTDOSE-35161\n"
     ]
    }
   ],
   "source": [
    "for key in paths_RD.items():\n",
    "    print(paths_RD[key[0]])"
   ]
  },
  {
   "cell_type": "code",
   "execution_count": 6,
   "id": "f489848d-66fd-4b12-bf3b-b0287533e0c4",
   "metadata": {
    "scrolled": true
   },
   "outputs": [
    {
     "name": "stdout",
     "output_type": "stream",
     "text": [
      "************* Error in path: No medical images found *************\n"
     ]
    }
   ],
   "source": [
    "#GET THE SET OF THE IMAGES OF THE PATIENTS\n",
    "for path in paths_images_all:\n",
    "    set_images = get_set_images(path)\n",
    "    #if len(set_images)==0:\n",
    "        #continue\n",
    "    #else:\n",
    "        #save_dicom_attributes_and_volume(path,new_path_save_images)"
   ]
  },
  {
   "cell_type": "code",
   "execution_count": 9,
   "id": "4a58ee50-4b6d-4c62-b2d5-177f9c1466b0",
   "metadata": {},
   "outputs": [
    {
     "data": {
      "text/plain": [
       "1520"
      ]
     },
     "execution_count": 9,
     "metadata": {},
     "output_type": "execute_result"
    }
   ],
   "source": [
    "import gc\n",
    "gc.collect()"
   ]
  },
  {
   "cell_type": "code",
   "execution_count": 6,
   "id": "d1074825-803f-4db2-aa5d-97302c10ebb9",
   "metadata": {},
   "outputs": [
    {
     "name": "stdout",
     "output_type": "stream",
     "text": [
      "************* Error in path: No medical images found *************\n",
      "The folder '../examples/output_example/patient/radiomics/Brain_radiomics' exists.\n",
      "The folder '../examples/output_example/patient/radiomics/Brain_radiomics/20040506_CT' exists.\n",
      "--------------------------------------------------------\n",
      "-   Wrote nrrd file for RT structure Brain file seg_Brain to ../examples/output_example/patient/radiomics/Brain_radiomics/20040506_CT   -\n",
      "--------------------------------------------------------\n"
     ]
    },
    {
     "name": "stderr",
     "output_type": "stream",
     "text": [
      "GLCM is symmetrical, therefore Sum Average = 2 * Joint Average, only 1 needs to be calculated\n"
     ]
    },
    {
     "name": "stdout",
     "output_type": "stream",
     "text": [
      "The folder '../examples/output_example/patient/radiomics/Brain_radiomics/20040506_CT/voxel_based' exists.\n"
     ]
    },
    {
     "ename": "MemoryError",
     "evalue": "",
     "output_type": "error",
     "traceback": [
      "\u001b[0;31m---------------------------------------------------------------------------\u001b[0m",
      "\u001b[0;31mMemoryError\u001b[0m                               Traceback (most recent call last)",
      "Cell \u001b[0;32mIn[6], line 10\u001b[0m\n\u001b[1;32m      8\u001b[0m         RS_file\u001b[38;5;241m.\u001b[39msort(key \u001b[38;5;241m=\u001b[39m \u001b[38;5;28;01mlambda\u001b[39;00m x: (x\u001b[38;5;241m.\u001b[39mStructureSetDate))\n\u001b[1;32m      9\u001b[0m         ROis \u001b[38;5;241m=\u001b[39m get_ROI_keys_2(RS_file[\u001b[38;5;241m0\u001b[39m])\n\u001b[0;32m---> 10\u001b[0m         \u001b[43mradiomics_utils\u001b[49m\u001b[38;5;241;43m.\u001b[39;49m\u001b[43mcreate_ROI_folders_and_radiomics_specific\u001b[49m\u001b[43m(\u001b[49m\u001b[43mRS_file\u001b[49m\u001b[43m[\u001b[49m\u001b[38;5;241;43m0\u001b[39;49m\u001b[43m]\u001b[49m\u001b[43m,\u001b[49m\u001b[38;5;124;43m'\u001b[39;49m\u001b[38;5;124;43mBrain\u001b[39;49m\u001b[38;5;124;43m'\u001b[39;49m\u001b[43m,\u001b[49m\u001b[43mfolder_path_radiomics\u001b[49m\u001b[43m,\u001b[49m\u001b[43mset_images\u001b[49m\u001b[43m,\u001b[49m\u001b[43mnew_path_save_images\u001b[49m\u001b[43m)\u001b[49m               \n\u001b[1;32m     11\u001b[0m     \u001b[38;5;66;03m#except:\u001b[39;00m\n\u001b[1;32m     12\u001b[0m      \u001b[38;5;66;03m#   continue\u001b[39;00m\n\u001b[1;32m     13\u001b[0m \u001b[38;5;66;03m#print(RS_file)\u001b[39;00m\n\u001b[1;32m     14\u001b[0m \n\u001b[1;32m     15\u001b[0m         \u001b[38;5;66;03m#\u001b[39;00m\n\u001b[1;32m     16\u001b[0m \u001b[38;5;66;03m#\u001b[39;00m\n",
      "File \u001b[0;32m~/mCODE-MOSAICO/examples/../utils/radiomics_utils.py:253\u001b[0m, in \u001b[0;36mcreate_ROI_folders_and_radiomics_specific\u001b[0;34m(RS_file, ROI, folder_path_radiomics, set_images, new_path_save_images)\u001b[0m\n\u001b[1;32m    250\u001b[0m create_folder(RS_save_path\u001b[38;5;241m+\u001b[39m\u001b[38;5;124m'\u001b[39m\u001b[38;5;124m/voxel_based\u001b[39m\u001b[38;5;124m'\u001b[39m)\n\u001b[1;32m    252\u001b[0m \u001b[38;5;66;03m#try:\u001b[39;00m\n\u001b[0;32m--> 253\u001b[0m \u001b[43mget_radiomics\u001b[49m\u001b[43m(\u001b[49m\u001b[38;5;124;43m'\u001b[39;49m\u001b[38;5;124;43mvoxel\u001b[39;49m\u001b[38;5;124;43m'\u001b[39;49m\u001b[43m,\u001b[49m\u001b[43mimage_path\u001b[49m\u001b[43m,\u001b[49m\u001b[43mmask_path\u001b[49m\u001b[43m,\u001b[49m\u001b[43mROI\u001b[49m\u001b[43m,\u001b[49m\u001b[43mRS_save_path\u001b[49m\u001b[43m)\u001b[49m\n",
      "File \u001b[0;32m~/mCODE-MOSAICO/examples/../utils/radiomics_utils.py:522\u001b[0m, in \u001b[0;36mget_radiomics\u001b[0;34m(method, image_file, mask_file, ROIName, path_radiomics)\u001b[0m\n\u001b[1;32m    518\u001b[0m \u001b[38;5;66;03m#featureVector = extractor.execute(image,image)\u001b[39;00m\n\u001b[1;32m    519\u001b[0m \n\u001b[1;32m    520\u001b[0m \u001b[38;5;66;03m#TO DO: reshape the feature map\u001b[39;00m\n\u001b[1;32m    521\u001b[0m \u001b[38;5;28;01mif\u001b[39;00m method\u001b[38;5;241m==\u001b[39m\u001b[38;5;124m'\u001b[39m\u001b[38;5;124mvoxel\u001b[39m\u001b[38;5;124m'\u001b[39m:                \n\u001b[0;32m--> 522\u001b[0m     featureVector \u001b[38;5;241m=\u001b[39m \u001b[43mextractor\u001b[49m\u001b[38;5;241;43m.\u001b[39;49m\u001b[43mexecute\u001b[49m\u001b[43m(\u001b[49m\u001b[43mimageName\u001b[49m\u001b[43m,\u001b[49m\u001b[43m \u001b[49m\u001b[43mmaskName\u001b[49m\u001b[43m,\u001b[49m\u001b[43m \u001b[49m\u001b[43mvoxelBased\u001b[49m\u001b[38;5;241;43m=\u001b[39;49m\u001b[38;5;28;43;01mTrue\u001b[39;49;00m\u001b[43m)\u001b[49m\n\u001b[1;32m    523\u001b[0m     \u001b[38;5;28;01mfor\u001b[39;00m key, val \u001b[38;5;129;01min\u001b[39;00m six\u001b[38;5;241m.\u001b[39miteritems(featureVector):\n\u001b[1;32m    524\u001b[0m         \u001b[38;5;28;01mif\u001b[39;00m \u001b[38;5;28misinstance\u001b[39m(val, sitk\u001b[38;5;241m.\u001b[39mImage):  \u001b[38;5;66;03m# Feature map\u001b[39;00m\n",
      "File \u001b[0;32m/data/odette/p3venv/lib/python3.10/site-packages/radiomics/featureextractor.py:330\u001b[0m, in \u001b[0;36mRadiomicsFeatureExtractor.execute\u001b[0;34m(self, imageFilepath, maskFilepath, label, label_channel, voxelBased)\u001b[0m\n\u001b[1;32m    328\u001b[0m   logger\u001b[38;5;241m.\u001b[39minfo(\u001b[38;5;124m'\u001b[39m\u001b[38;5;124mCalculating features for \u001b[39m\u001b[38;5;132;01m%s\u001b[39;00m\u001b[38;5;124m image\u001b[39m\u001b[38;5;124m'\u001b[39m, imageTypeName)\n\u001b[1;32m    329\u001b[0m   inputImage, inputMask \u001b[38;5;241m=\u001b[39m imageoperations\u001b[38;5;241m.\u001b[39mcropToTumorMask(inputImage, mask, boundingBox, padDistance\u001b[38;5;241m=\u001b[39mkernelRadius)\n\u001b[0;32m--> 330\u001b[0m   featureVector\u001b[38;5;241m.\u001b[39mupdate(\u001b[38;5;28;43mself\u001b[39;49m\u001b[38;5;241;43m.\u001b[39;49m\u001b[43mcomputeFeatures\u001b[49m\u001b[43m(\u001b[49m\u001b[43minputImage\u001b[49m\u001b[43m,\u001b[49m\u001b[43m \u001b[49m\u001b[43minputMask\u001b[49m\u001b[43m,\u001b[49m\u001b[43m \u001b[49m\u001b[43mimageTypeName\u001b[49m\u001b[43m,\u001b[49m\u001b[43m \u001b[49m\u001b[38;5;241;43m*\u001b[39;49m\u001b[38;5;241;43m*\u001b[39;49m\u001b[43minputKwargs\u001b[49m\u001b[43m)\u001b[49m)\n\u001b[1;32m    332\u001b[0m logger\u001b[38;5;241m.\u001b[39mdebug(\u001b[38;5;124m'\u001b[39m\u001b[38;5;124mFeatures extracted\u001b[39m\u001b[38;5;124m'\u001b[39m)\n\u001b[1;32m    334\u001b[0m \u001b[38;5;28;01mreturn\u001b[39;00m featureVector\n",
      "File \u001b[0;32m/data/odette/p3venv/lib/python3.10/site-packages/radiomics/featureextractor.py:517\u001b[0m, in \u001b[0;36mRadiomicsFeatureExtractor.computeFeatures\u001b[0;34m(self, image, mask, imageTypeName, **kwargs)\u001b[0m\n\u001b[1;32m    514\u001b[0m   \u001b[38;5;28;01mfor\u001b[39;00m feature \u001b[38;5;129;01min\u001b[39;00m featureNames:\n\u001b[1;32m    515\u001b[0m     featureClass\u001b[38;5;241m.\u001b[39menableFeatureByName(feature)\n\u001b[0;32m--> 517\u001b[0m \u001b[38;5;28;01mfor\u001b[39;00m (featureName, featureValue) \u001b[38;5;129;01min\u001b[39;00m six\u001b[38;5;241m.\u001b[39miteritems(\u001b[43mfeatureClass\u001b[49m\u001b[38;5;241;43m.\u001b[39;49m\u001b[43mexecute\u001b[49m\u001b[43m(\u001b[49m\u001b[43m)\u001b[49m):\n\u001b[1;32m    518\u001b[0m   newFeatureName \u001b[38;5;241m=\u001b[39m \u001b[38;5;124m'\u001b[39m\u001b[38;5;132;01m%s\u001b[39;00m\u001b[38;5;124m_\u001b[39m\u001b[38;5;132;01m%s\u001b[39;00m\u001b[38;5;124m_\u001b[39m\u001b[38;5;132;01m%s\u001b[39;00m\u001b[38;5;124m'\u001b[39m \u001b[38;5;241m%\u001b[39m (imageTypeName, featureClassName, featureName)\n\u001b[1;32m    519\u001b[0m   featureVector[newFeatureName] \u001b[38;5;241m=\u001b[39m featureValue\n",
      "File \u001b[0;32m/data/odette/p3venv/lib/python3.10/site-packages/radiomics/base.py:183\u001b[0m, in \u001b[0;36mRadiomicsFeaturesBase.execute\u001b[0;34m(self)\u001b[0m\n\u001b[1;32m    180\u001b[0m   \u001b[38;5;28mself\u001b[39m\u001b[38;5;241m.\u001b[39menableAllFeatures()\n\u001b[1;32m    182\u001b[0m \u001b[38;5;28;01mif\u001b[39;00m \u001b[38;5;28mself\u001b[39m\u001b[38;5;241m.\u001b[39mvoxelBased:\n\u001b[0;32m--> 183\u001b[0m   \u001b[38;5;28;43mself\u001b[39;49m\u001b[38;5;241;43m.\u001b[39;49m\u001b[43m_calculateVoxels\u001b[49m\u001b[43m(\u001b[49m\u001b[43m)\u001b[49m\n\u001b[1;32m    184\u001b[0m \u001b[38;5;28;01melse\u001b[39;00m:\n\u001b[1;32m    185\u001b[0m   \u001b[38;5;28mself\u001b[39m\u001b[38;5;241m.\u001b[39m_calculateSegment()\n",
      "File \u001b[0;32m/data/odette/p3venv/lib/python3.10/site-packages/radiomics/base.py:209\u001b[0m, in \u001b[0;36mRadiomicsFeaturesBase._calculateVoxels\u001b[0;34m(self)\u001b[0m\n\u001b[1;32m    207\u001b[0m voxelCoords \u001b[38;5;241m=\u001b[39m \u001b[38;5;28mself\u001b[39m\u001b[38;5;241m.\u001b[39mlabelledVoxelCoordinates[:, voxel_batch_idx:voxel_batch_idx \u001b[38;5;241m+\u001b[39m voxelBatch]\n\u001b[1;32m    208\u001b[0m \u001b[38;5;66;03m# Calculate the feature values for the current kernel\u001b[39;00m\n\u001b[0;32m--> 209\u001b[0m \u001b[38;5;28;01mfor\u001b[39;00m success, featureName, featureValue \u001b[38;5;129;01min\u001b[39;00m \u001b[38;5;28mself\u001b[39m\u001b[38;5;241m.\u001b[39m_calculateFeatures(voxelCoords):\n\u001b[1;32m    210\u001b[0m   \u001b[38;5;28;01mif\u001b[39;00m success:\n\u001b[1;32m    211\u001b[0m     \u001b[38;5;28mself\u001b[39m\u001b[38;5;241m.\u001b[39mfeatureValues[featureName][\u001b[38;5;28mtuple\u001b[39m(voxelCoords)] \u001b[38;5;241m=\u001b[39m featureValue\n",
      "File \u001b[0;32m/data/odette/p3venv/lib/python3.10/site-packages/radiomics/base.py:231\u001b[0m, in \u001b[0;36mRadiomicsFeaturesBase._calculateFeatures\u001b[0;34m(self, voxelCoordinates)\u001b[0m\n\u001b[1;32m    228\u001b[0m \u001b[38;5;28;01mdef\u001b[39;00m\u001b[38;5;250m \u001b[39m\u001b[38;5;21m_calculateFeatures\u001b[39m(\u001b[38;5;28mself\u001b[39m, voxelCoordinates\u001b[38;5;241m=\u001b[39m\u001b[38;5;28;01mNone\u001b[39;00m):\n\u001b[1;32m    229\u001b[0m   \u001b[38;5;66;03m# Initialize the calculation\u001b[39;00m\n\u001b[1;32m    230\u001b[0m   \u001b[38;5;66;03m# This function serves to calculate the texture matrices where applicable\u001b[39;00m\n\u001b[0;32m--> 231\u001b[0m   \u001b[38;5;28;43mself\u001b[39;49m\u001b[38;5;241;43m.\u001b[39;49m\u001b[43m_initCalculation\u001b[49m\u001b[43m(\u001b[49m\u001b[43mvoxelCoordinates\u001b[49m\u001b[43m)\u001b[49m\n\u001b[1;32m    233\u001b[0m   \u001b[38;5;28mself\u001b[39m\u001b[38;5;241m.\u001b[39mlogger\u001b[38;5;241m.\u001b[39mdebug(\u001b[38;5;124m'\u001b[39m\u001b[38;5;124mCalculating features\u001b[39m\u001b[38;5;124m'\u001b[39m)\n\u001b[1;32m    234\u001b[0m   \u001b[38;5;28;01mfor\u001b[39;00m feature, enabled \u001b[38;5;129;01min\u001b[39;00m six\u001b[38;5;241m.\u001b[39miteritems(\u001b[38;5;28mself\u001b[39m\u001b[38;5;241m.\u001b[39menabledFeatures):\n",
      "File \u001b[0;32m/data/odette/p3venv/lib/python3.10/site-packages/radiomics/glcm.py:111\u001b[0m, in \u001b[0;36mRadiomicsGLCM._initCalculation\u001b[0;34m(self, voxelCoordinates)\u001b[0m\n\u001b[1;32m    110\u001b[0m \u001b[38;5;28;01mdef\u001b[39;00m\u001b[38;5;250m \u001b[39m\u001b[38;5;21m_initCalculation\u001b[39m(\u001b[38;5;28mself\u001b[39m, voxelCoordinates\u001b[38;5;241m=\u001b[39m\u001b[38;5;28;01mNone\u001b[39;00m):\n\u001b[0;32m--> 111\u001b[0m   \u001b[38;5;28mself\u001b[39m\u001b[38;5;241m.\u001b[39mP_glcm \u001b[38;5;241m=\u001b[39m \u001b[38;5;28;43mself\u001b[39;49m\u001b[38;5;241;43m.\u001b[39;49m\u001b[43m_calculateMatrix\u001b[49m\u001b[43m(\u001b[49m\u001b[43mvoxelCoordinates\u001b[49m\u001b[43m)\u001b[49m\n\u001b[1;32m    113\u001b[0m   \u001b[38;5;28mself\u001b[39m\u001b[38;5;241m.\u001b[39m_calculateCoefficients()\n\u001b[1;32m    115\u001b[0m   \u001b[38;5;28mself\u001b[39m\u001b[38;5;241m.\u001b[39mlogger\u001b[38;5;241m.\u001b[39mdebug(\u001b[38;5;124m'\u001b[39m\u001b[38;5;124mGLCM feature class initialized, calculated GLCM with shape \u001b[39m\u001b[38;5;132;01m%s\u001b[39;00m\u001b[38;5;124m'\u001b[39m, \u001b[38;5;28mself\u001b[39m\u001b[38;5;241m.\u001b[39mP_glcm\u001b[38;5;241m.\u001b[39mshape)\n",
      "File \u001b[0;32m/data/odette/p3venv/lib/python3.10/site-packages/radiomics/glcm.py:139\u001b[0m, in \u001b[0;36mRadiomicsGLCM._calculateMatrix\u001b[0;34m(self, voxelCoordinates)\u001b[0m\n\u001b[1;32m    136\u001b[0m \u001b[38;5;28;01mif\u001b[39;00m \u001b[38;5;28mself\u001b[39m\u001b[38;5;241m.\u001b[39mvoxelBased:\n\u001b[1;32m    137\u001b[0m   matrix_args \u001b[38;5;241m+\u001b[39m\u001b[38;5;241m=\u001b[39m [\u001b[38;5;28mself\u001b[39m\u001b[38;5;241m.\u001b[39msettings\u001b[38;5;241m.\u001b[39mget(\u001b[38;5;124m'\u001b[39m\u001b[38;5;124mkernelRadius\u001b[39m\u001b[38;5;124m'\u001b[39m, \u001b[38;5;241m1\u001b[39m), voxelCoordinates]\n\u001b[0;32m--> 139\u001b[0m P_glcm, angles \u001b[38;5;241m=\u001b[39m \u001b[43mcMatrices\u001b[49m\u001b[38;5;241;43m.\u001b[39;49m\u001b[43mcalculate_glcm\u001b[49m\u001b[43m(\u001b[49m\u001b[38;5;241;43m*\u001b[39;49m\u001b[43mmatrix_args\u001b[49m\u001b[43m)\u001b[49m\n\u001b[1;32m    141\u001b[0m \u001b[38;5;28mself\u001b[39m\u001b[38;5;241m.\u001b[39mlogger\u001b[38;5;241m.\u001b[39mdebug(\u001b[38;5;124m'\u001b[39m\u001b[38;5;124mProcess calculated matrix\u001b[39m\u001b[38;5;124m'\u001b[39m)\n\u001b[1;32m    143\u001b[0m \u001b[38;5;66;03m# Delete rows and columns that specify gray levels not present in the ROI\u001b[39;00m\n",
      "\u001b[0;31mMemoryError\u001b[0m: "
     ]
    }
   ],
   "source": [
    "paths_images_RS = {}\n",
    "for path in paths_images_all:\n",
    "    set_images = get_set_images(path)\n",
    "    if len(set_images)!=0:\n",
    "        for path_2 in paths_images_all:\n",
    "            RS_file = search_RS_file(path_2,set_images[0].SeriesDescription)\n",
    "            \n",
    "            #if len(RS_file)!=0:\n",
    "                #RS_file.sort(key = lambda x: (x.StructureSetDate))\n",
    "                #ROis = get_ROI_keys_2(RS_file[0])\n",
    "                #radiomics_utils.create_ROI_folders_and_radiomics_specific(RS_file[0],'Brain',folder_path_radiomics,set_images,new_path_save_images)               \n",
    "            #except:\n",
    "             #   continue\n",
    "        #print(RS_file)\n",
    "    \n",
    "                #\n",
    "        #\n",
    "    "
   ]
  },
  {
   "cell_type": "code",
   "execution_count": null,
   "id": "7deb2328-4ad9-4ca9-91c7-6e002e5a1132",
   "metadata": {},
   "outputs": [],
   "source": []
  },
  {
   "cell_type": "code",
   "execution_count": null,
   "id": "c028d6f2-4260-46e1-bffb-67cc4d86e372",
   "metadata": {},
   "outputs": [],
   "source": []
  },
  {
   "cell_type": "code",
   "execution_count": null,
   "id": "bdcc3f42-6ebd-49b7-b7cc-26a2a6dfaa57",
   "metadata": {},
   "outputs": [],
   "source": []
  },
  {
   "cell_type": "code",
   "execution_count": null,
   "id": "11f82404-783e-456a-86d1-c5c84f239962",
   "metadata": {},
   "outputs": [],
   "source": []
  },
  {
   "cell_type": "code",
   "execution_count": null,
   "id": "226dab8f-c37c-43a3-872c-75703813b280",
   "metadata": {},
   "outputs": [],
   "source": []
  }
 ],
 "metadata": {
  "kernelspec": {
   "display_name": "Python 3 (ipykernel)",
   "language": "python",
   "name": "python3"
  },
  "language_info": {
   "codemirror_mode": {
    "name": "ipython",
    "version": 3
   },
   "file_extension": ".py",
   "mimetype": "text/x-python",
   "name": "python",
   "nbconvert_exporter": "python",
   "pygments_lexer": "ipython3",
   "version": "3.10.12"
  }
 },
 "nbformat": 4,
 "nbformat_minor": 5
}
