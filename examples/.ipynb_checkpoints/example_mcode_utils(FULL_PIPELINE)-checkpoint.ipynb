{
 "cells": [
  {
   "cell_type": "code",
   "execution_count": 1,
   "id": "07a03228-daa4-4003-968c-8f9d77249729",
   "metadata": {},
   "outputs": [],
   "source": [
    "import pydicom as dcm\n",
    "import numpy as np\n",
    "import pandas as pd\n",
    "from matplotlib import pyplot as plt\n",
    "import json\n",
    "import sys\n",
    "import os\n",
    "sys.path.append('../utils')\n",
    "import radiomics_utils\n",
    "from radiomics_utils import *\n",
    "import mcode_utils\n",
    "from mcode_utils import *"
   ]
  },
  {
   "cell_type": "markdown",
   "id": "0064e664-e756-44bc-8316-a4e70ea895b6",
   "metadata": {},
   "source": [
    "# (1) Sort Folders"
   ]
  },
  {
   "cell_type": "code",
   "execution_count": 2,
   "id": "2571e468-b274-4ddb-a649-7125dbf3ca60",
   "metadata": {},
   "outputs": [],
   "source": [
    "path_patient = '../examples/GBM_burdenko_example/'\n",
    "path_save  = '../examples/output_example'\n",
    "if not os.path.isdir(path_save):\n",
    "    os.makedirs(path_save)"
   ]
  },
  {
   "cell_type": "code",
   "execution_count": 3,
   "id": "7304f454-a250-4522-ae8e-e9b419cfeba4",
   "metadata": {},
   "outputs": [
    {
     "name": "stdout",
     "output_type": "stream",
     "text": [
      "The folder '../examples/output_example/patient_' does not exist\n",
      "#####  Creating folder for Patient ''... ######\n",
      "Folder created sucessfully\n",
      "\n",
      "\n",
      "The folder '../examples/output_example/patient_/medical_images' does not exist\n",
      "############### CREATING FOLDER ################\n",
      "Folder created sucessfully\n",
      "\n",
      "\n",
      "The folder '../examples/output_example/patient_/radiomics' does not exist\n",
      "############### CREATING FOLDER ################\n",
      "Folder created sucessfully\n",
      "\n",
      "\n",
      "The folder '../examples/output_example/patient_/dosiomics' does not exist\n",
      "############### CREATING FOLDER ################\n",
      "Folder created sucessfully\n",
      "\n",
      "\n"
     ]
    },
    {
     "name": "stderr",
     "output_type": "stream",
     "text": [
      "sudo: a terminal is required to read the password; either use the -S option to read from standard input or configure an askpass helper\n",
      "sudo: a password is required\n",
      "sudo: a terminal is required to read the password; either use the -S option to read from standard input or configure an askpass helper\n",
      "sudo: a password is required\n",
      "sudo: a terminal is required to read the password; either use the -S option to read from standard input or configure an askpass helper\n",
      "sudo: a password is required\n",
      "sudo: a terminal is required to read the password; either use the -S option to read from standard input or configure an askpass helper\n",
      "sudo: a password is required\n"
     ]
    },
    {
     "data": {
      "text/plain": [
       "('../examples/output_example/patient_/medical_images',\n",
       " '../examples/output_example/patient_/radiomics',\n",
       " '../examples/output_example/patient_/dosiomics',\n",
       " '../examples/output_example/patient_')"
      ]
     },
     "execution_count": 3,
     "metadata": {},
     "output_type": "execute_result"
    }
   ],
   "source": [
    "#Create the folders for given the patient path and the path to save\n",
    "mcode_utils.create_main_paths_per_patient(path_patient,path_save)"
   ]
  },
  {
   "cell_type": "code",
   "execution_count": null,
   "id": "08eb0af8-038f-4d67-af74-432724c7cd4e",
   "metadata": {},
   "outputs": [],
   "source": [
    " #paths_images_all = get_all_folder_images(path_patient)\n",
    "    #new_path_save_images, folder_path_radiomics, folder_path_dosiomics, folder_path =  create_main_paths_per_patient(path_patient,path_save)\n",
    "    #create_folders_main_folders_per_patient(folder_path,new_path_save_images,folder_path_radiomics,folder_path_dosiomics)\n",
    "    \n",
    "    #save_dicom_attributes_and_volume(paths_images_all[0],new_path_save_images)\n",
    "    #path_RS_all = get_all_folder_RS(path_patient)"
   ]
  }
 ],
 "metadata": {
  "kernelspec": {
   "display_name": "Python 3 (ipykernel)",
   "language": "python",
   "name": "python3"
  },
  "language_info": {
   "codemirror_mode": {
    "name": "ipython",
    "version": 3
   },
   "file_extension": ".py",
   "mimetype": "text/x-python",
   "name": "python",
   "nbconvert_exporter": "python",
   "pygments_lexer": "ipython3",
   "version": "3.10.12"
  }
 },
 "nbformat": 4,
 "nbformat_minor": 5
}
