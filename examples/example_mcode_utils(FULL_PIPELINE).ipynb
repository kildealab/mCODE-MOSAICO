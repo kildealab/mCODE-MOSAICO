{
 "cells": [
  {
   "cell_type": "code",
   "execution_count": 1,
   "id": "07a03228-daa4-4003-968c-8f9d77249729",
   "metadata": {},
   "outputs": [],
   "source": [
    "import pydicom as dcm\n",
    "import numpy as np\n",
    "import pandas as pd\n",
    "from matplotlib import pyplot as plt\n",
    "import json\n",
    "import sys\n",
    "import os\n",
    "sys.path.append('../utils')\n",
    "import radiomics_utils\n",
    "from radiomics_utils import *\n",
    "import mcode_utils\n",
    "from mcode_utils import *"
   ]
  },
  {
   "cell_type": "code",
   "execution_count": 2,
   "id": "25b8f98b-bc5d-4c93-9fbb-504829d91736",
   "metadata": {},
   "outputs": [],
   "source": [
    "#import getpass\n",
    "#password = getpass.getpass(\"Sudo password: \")"
   ]
  },
  {
   "cell_type": "markdown",
   "id": "0064e664-e756-44bc-8316-a4e70ea895b6",
   "metadata": {},
   "source": [
    "## Creates folders and sorts them. Extract the mCODE extension elements for images, radiomics, and dosiomics"
   ]
  },
  {
   "cell_type": "code",
   "execution_count": 3,
   "id": "2571e468-b274-4ddb-a649-7125dbf3ca60",
   "metadata": {},
   "outputs": [],
   "source": [
    "path_patient = '../examples/GBM_burdenko_example/'\n",
    "path_save  = '../examples/output_example'\n",
    "if not os.path.isdir(path_save):\n",
    "    os.makedirs(path_save)"
   ]
  },
  {
   "cell_type": "code",
   "execution_count": 7,
   "id": "7304f454-a250-4522-ae8e-e9b419cfeba4",
   "metadata": {},
   "outputs": [
    {
     "name": "stdout",
     "output_type": "stream",
     "text": [
      "The folder '../examples/output_example/patient' exists.\n",
      "The folder '../examples/output_example/patient/medical_images' exists.\n",
      "The folder '../examples/output_example/patient/radiomics' exists.\n",
      "The folder '../examples/output_example/patient/dosiomics' exists.\n"
     ]
    }
   ],
   "source": [
    "#Create the folders for given the patient path and the path to save\n",
    "new_path_save_images, folder_path_radiomics, folder_path_dosiomics, folder_path = mcode_utils.create_main_paths_per_patient(path_patient,path_save)"
   ]
  },
  {
   "cell_type": "code",
   "execution_count": 8,
   "id": "08eb0af8-038f-4d67-af74-432724c7cd4e",
   "metadata": {},
   "outputs": [
    {
     "name": "stdout",
     "output_type": "stream",
     "text": [
      "['../examples/GBM_burdenko_example/0.000000-RTSTRUCT-45697', '../examples/GBM_burdenko_example/1.000000-RTSTRUCT-83947', '../examples/GBM_burdenko_example/2.000000-CT00CT-58964', '../examples/GBM_burdenko_example/2.000000-RTSTRUCT-92306', '../examples/GBM_burdenko_example/3.000000-MR0T2FLAIR-90484', '../examples/GBM_burdenko_example/3.000000-RTPLAN-07507', '../examples/GBM_burdenko_example/4.000000-MR00T1-28157', '../examples/GBM_burdenko_example/5.000000-MR00T2-45066', '../examples/GBM_burdenko_example/5.000000-RTDOSE-35161', '../examples/GBM_burdenko_example/8.000000-MRCET1-61578']\n"
     ]
    }
   ],
   "source": [
    "#GET THE PATH OF THE IMAGES FORM THE EXAMPLE\n",
    "paths_images_all = get_all_folder_images(path_patient)\n",
    "print(paths_images_all)"
   ]
  },
  {
   "cell_type": "code",
   "execution_count": 9,
   "id": "f489848d-66fd-4b12-bf3b-b0287533e0c4",
   "metadata": {
    "scrolled": true
   },
   "outputs": [
    {
     "name": "stdout",
     "output_type": "stream",
     "text": [
      "The folder '../examples/output_example/patient/medical_images/20040506_CT' does not exist\n",
      "############### CREATING FOLDER ################\n",
      "Folder created sucessfully\n",
      "\n",
      "\n",
      "-------------------------------------------\n",
      "-------------------------------------------\n",
      "--------------------------------------------------------\n",
      "-   Wrote nrrd file 20040506_CT to ../examples/output_example/patient/medical_images/20040506_CT   -\n",
      "--------------------------------------------------------\n",
      "The folder '../examples/output_example/patient/medical_images/20040506_MR_MR0T2FLAIR' does not exist\n",
      "############### CREATING FOLDER ################\n",
      "Folder created sucessfully\n",
      "\n",
      "\n",
      "-------------------------------------------\n",
      "-------------------------------------------\n",
      "--------------------------------------------------------\n",
      "-   Wrote nrrd file 20040506_MR_MR0T2FLAIR to ../examples/output_example/patient/medical_images/20040506_MR_MR0T2FLAIR   -\n",
      "--------------------------------------------------------\n",
      "The folder '../examples/output_example/patient/medical_images/20040506_MR_MR00T1' does not exist\n",
      "############### CREATING FOLDER ################\n",
      "Folder created sucessfully\n",
      "\n",
      "\n",
      "-------------------------------------------\n",
      "-------------------------------------------\n",
      "--------------------------------------------------------\n",
      "-   Wrote nrrd file 20040506_MR_MR00T1 to ../examples/output_example/patient/medical_images/20040506_MR_MR00T1   -\n",
      "--------------------------------------------------------\n",
      "The folder '../examples/output_example/patient/medical_images/20040506_MR_MR00T2' does not exist\n",
      "############### CREATING FOLDER ################\n",
      "Folder created sucessfully\n",
      "\n",
      "\n",
      "-------------------------------------------\n",
      "-------------------------------------------\n",
      "--------------------------------------------------------\n",
      "-   Wrote nrrd file 20040506_MR_MR00T2 to ../examples/output_example/patient/medical_images/20040506_MR_MR00T2   -\n",
      "--------------------------------------------------------\n",
      "The folder '../examples/output_example/patient/medical_images/20040506_MR_MRCET1' does not exist\n",
      "############### CREATING FOLDER ################\n",
      "Folder created sucessfully\n",
      "\n",
      "\n",
      "-------------------------------------------\n",
      "-------------------------------------------\n",
      "--------------------------------------------------------\n",
      "-   Wrote nrrd file 20040506_MR_MRCET1 to ../examples/output_example/patient/medical_images/20040506_MR_MRCET1   -\n",
      "--------------------------------------------------------\n"
     ]
    }
   ],
   "source": [
    "#GET THE SET OF THE IMAGES OF THE PATIENTS\n",
    "for path in paths_images_all:\n",
    "    set_images = get_set_images(path)\n",
    "    if len(set_images)==0:\n",
    "        continue\n",
    "    else:\n",
    "        save_dicom_attributes_and_volume(path,new_path_save_images)"
   ]
  },
  {
   "cell_type": "code",
   "execution_count": null,
   "id": "d1074825-803f-4db2-aa5d-97302c10ebb9",
   "metadata": {},
   "outputs": [],
   "source": [
    "if len(set_images)!=0:\n",
    "    #for path_image in paths_images_all:\n",
    "    #save_dicom_attributes_and_volume(paths_images_all[0],new_path_save_images,set_images)    \n",
    "    \n",
    "    RS_file = search_RS_file(paths_images_all[0],set_images,set_images[0].StudyInstanceUID)\n",
    "    RS_file.sort(key = lambda x: (x.StructureSetDate))\n",
    "    create_ROI_folders_and_radiomics_specific(RS_file[-1],'Parotid_R',folder_path_radiomics,set_images,new_path_save_images)\n",
    "        \n",
    "    "
   ]
  }
 ],
 "metadata": {
  "kernelspec": {
   "display_name": "Python 3 (ipykernel)",
   "language": "python",
   "name": "python3"
  },
  "language_info": {
   "codemirror_mode": {
    "name": "ipython",
    "version": 3
   },
   "file_extension": ".py",
   "mimetype": "text/x-python",
   "name": "python",
   "nbconvert_exporter": "python",
   "pygments_lexer": "ipython3",
   "version": "3.10.12"
  }
 },
 "nbformat": 4,
 "nbformat_minor": 5
}
