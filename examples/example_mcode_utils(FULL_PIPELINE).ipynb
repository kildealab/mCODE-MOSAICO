{
 "cells": [
  {
   "cell_type": "code",
   "execution_count": 1,
   "id": "07a03228-daa4-4003-968c-8f9d77249729",
   "metadata": {},
   "outputs": [],
   "source": [
    "import pydicom as dcm\n",
    "import numpy as np\n",
    "import pandas as pd\n",
    "from matplotlib import pyplot as plt\n",
    "import json\n",
    "import sys\n",
    "import os\n",
    "sys.path.append('../utils')\n",
    "import radiomics_utils\n",
    "from radiomics_utils import *\n",
    "import mcode_utils\n",
    "from mcode_utils import *\n",
    "import dicom_utils\n",
    "from dicom_utils import *"
   ]
  },
  {
   "cell_type": "code",
   "execution_count": 2,
   "id": "25b8f98b-bc5d-4c93-9fbb-504829d91736",
   "metadata": {},
   "outputs": [],
   "source": [
    "#import getpass\n",
    "#password = getpass.getpass(\"Sudo password: \")"
   ]
  },
  {
   "cell_type": "markdown",
   "id": "0064e664-e756-44bc-8316-a4e70ea895b6",
   "metadata": {},
   "source": [
    "## Creates folders and sorts them. Extract the mCODE extension elements for images, radiomics, and dosiomics"
   ]
  },
  {
   "cell_type": "code",
   "execution_count": 3,
   "id": "2571e468-b274-4ddb-a649-7125dbf3ca60",
   "metadata": {},
   "outputs": [],
   "source": [
    "path_patient = '../examples/GBM_burdenko_example/1'\n",
    "path_save  = '../examples/output_example'\n",
    "if not os.path.isdir(path_save):\n",
    "    os.makedirs(path_save)"
   ]
  },
  {
   "cell_type": "code",
   "execution_count": 4,
   "id": "7304f454-a250-4522-ae8e-e9b419cfeba4",
   "metadata": {},
   "outputs": [
    {
     "name": "stdout",
     "output_type": "stream",
     "text": [
      "The folder '../examples/output_example/1' exists.\n",
      "The folder '../examples/output_example/1/medical_images' exists.\n",
      "The folder '../examples/output_example/1/radiomics' exists.\n",
      "The folder '../examples/output_example/1/dosiomics' exists.\n",
      "The folder '../examples/output_example/1/dosimetrics' exists.\n"
     ]
    }
   ],
   "source": [
    "#Create the folders for given the patient path and the path to save\n",
    "new_path_save_images, folder_path_radiomics, folder_path_dosiomics, folder_path_dosimetric, folder_path = mcode_utils.create_main_paths_per_patient(path_patient,path_save)"
   ]
  },
  {
   "cell_type": "code",
   "execution_count": 5,
   "id": "08eb0af8-038f-4d67-af74-432724c7cd4e",
   "metadata": {},
   "outputs": [],
   "source": [
    "#GET THE PATH OF THE IMAGES FORM THE EXAMPLE\n",
    "paths_images_all = get_all_folder_images(path_patient)"
   ]
  },
  {
   "cell_type": "code",
   "execution_count": 6,
   "id": "79188680-9f24-4764-9a66-5e5774887f5c",
   "metadata": {},
   "outputs": [
    {
     "ename": "TypeError",
     "evalue": "cannot unpack non-iterable NoneType object",
     "output_type": "error",
     "traceback": [
      "\u001b[0;31m---------------------------------------------------------------------------\u001b[0m",
      "\u001b[0;31mTypeError\u001b[0m                                 Traceback (most recent call last)",
      "Cell \u001b[0;32mIn[6], line 1\u001b[0m\n\u001b[0;32m----> 1\u001b[0m paths_RT \u001b[38;5;241m=\u001b[39m \u001b[43mget_dirs_RT\u001b[49m\u001b[43m(\u001b[49m\u001b[43mpaths_images_all\u001b[49m\u001b[43m,\u001b[49m\u001b[38;5;28;43;01mFalse\u001b[39;49;00m\u001b[43m)\u001b[49m\n\u001b[1;32m      2\u001b[0m paths_RT\n",
      "File \u001b[0;32m~/mCODE-MOSAICO/examples/../utils/dicom_utils.py:603\u001b[0m, in \u001b[0;36mget_dirs_RT\u001b[0;34m(paths_images_all, dicoPATH)\u001b[0m\n\u001b[1;32m    601\u001b[0m \u001b[38;5;28;01mif\u001b[39;00m dicoPATH\u001b[38;5;241m==\u001b[39m\u001b[38;5;28;01mFalse\u001b[39;00m:\n\u001b[1;32m    602\u001b[0m     \u001b[38;5;28;01mfor\u001b[39;00m path_2 \u001b[38;5;129;01min\u001b[39;00m paths_images_all:\n\u001b[0;32m--> 603\u001b[0m         RS_file, p \u001b[38;5;241m=\u001b[39m search_RS_path(path_2,set_images[\u001b[38;5;241m0\u001b[39m]\u001b[38;5;241m.\u001b[39mSeriesDescription)\n\u001b[1;32m    604\u001b[0m         \u001b[38;5;28;01mif\u001b[39;00m RS_file\u001b[38;5;241m==\u001b[39m\u001b[38;5;28;01mTrue\u001b[39;00m:\n\u001b[1;32m    605\u001b[0m             paths[path] \u001b[38;5;241m=\u001b[39m p\n",
      "\u001b[0;31mTypeError\u001b[0m: cannot unpack non-iterable NoneType object"
     ]
    }
   ],
   "source": [
    "paths_RT = get_dirs_RT(paths_images_all,False)\n",
    "paths_RT"
   ]
  },
  {
   "cell_type": "code",
   "execution_count": 115,
   "id": "ddb81b8b-2147-41eb-8fc6-3101dd16d993",
   "metadata": {},
   "outputs": [
    {
     "data": {
      "text/plain": [
       "{'../examples/GBM_burdenko_example/1/2.000000-RTSTRUCT-92306': '../examples/GBM_burdenko_example/1/5.000000-RTDOSE-35161'}"
      ]
     },
     "execution_count": 115,
     "metadata": {},
     "output_type": "execute_result"
    }
   ],
   "source": [
    "paths_RD = get_dirs_RD(paths_RT,False)\n",
    "paths_RD"
   ]
  },
  {
   "cell_type": "code",
   "execution_count": 30,
   "id": "7fd9b5b8-f23c-40f0-b9a8-4e390a53a2e9",
   "metadata": {},
   "outputs": [
    {
     "name": "stdout",
     "output_type": "stream",
     "text": [
      "../examples/GBM_burdenko_example/1/2.000000-RTSTRUCT-92306\n",
      "../examples/GBM_burdenko_example/1/1.000000-RTSTRUCT-83947\n",
      "../examples/GBM_burdenko_example/1/0.000000-RTSTRUCT-45697\n"
     ]
    }
   ],
   "source": [
    "for key in paths_RT.items():\n",
    "    print(paths_RT[key[0]])"
   ]
  },
  {
   "cell_type": "code",
   "execution_count": 107,
   "id": "2d00d46b-3d40-4b07-a05f-63d15bd6e778",
   "metadata": {},
   "outputs": [
    {
     "data": {
      "text/plain": [
       "'CT00CT'"
      ]
     },
     "execution_count": 107,
     "metadata": {},
     "output_type": "execute_result"
    }
   ],
   "source": [
    "dcm.dcmread('../examples/GBM_burdenko_example/1/2.000000-RTSTRUCT-92306/1-1.dcm').StructureSetLabel"
   ]
  },
  {
   "cell_type": "code",
   "execution_count": 42,
   "id": "fd4c41e5-314a-4d1d-ab31-1570f4ddd0d6",
   "metadata": {},
   "outputs": [
    {
     "name": "stdout",
     "output_type": "stream",
     "text": [
      "../examples/GBM_burdenko_example/1/5.000000-RTDOSE-35161\n"
     ]
    }
   ],
   "source": [
    "for key in paths_RD.items():\n",
    "    print(paths_RD[key[0]])"
   ]
  },
  {
   "cell_type": "code",
   "execution_count": 6,
   "id": "f489848d-66fd-4b12-bf3b-b0287533e0c4",
   "metadata": {
    "scrolled": true
   },
   "outputs": [
    {
     "name": "stdout",
     "output_type": "stream",
     "text": [
      "************* Error in path: No medical images found *************\n"
     ]
    }
   ],
   "source": [
    "#GET THE SET OF THE IMAGES OF THE PATIENTS\n",
    "for path in paths_images_all:\n",
    "    set_images = get_set_images(path)\n",
    "    #if len(set_images)==0:\n",
    "        #continue\n",
    "    #else:\n",
    "        #save_dicom_attributes_and_volume(path,new_path_save_images)"
   ]
  },
  {
   "cell_type": "code",
   "execution_count": 9,
   "id": "4a58ee50-4b6d-4c62-b2d5-177f9c1466b0",
   "metadata": {},
   "outputs": [
    {
     "data": {
      "text/plain": [
       "1520"
      ]
     },
     "execution_count": 9,
     "metadata": {},
     "output_type": "execute_result"
    }
   ],
   "source": [
    "import gc\n",
    "gc.collect()"
   ]
  },
  {
   "cell_type": "code",
   "execution_count": 6,
   "id": "d1074825-803f-4db2-aa5d-97302c10ebb9",
   "metadata": {},
   "outputs": [
    {
     "name": "stdout",
     "output_type": "stream",
     "text": [
      "************* Error in path: No medical images found *************\n",
      "The folder '../examples/output_example/patient/radiomics/Brain_radiomics' exists.\n",
      "The folder '../examples/output_example/patient/radiomics/Brain_radiomics/20040506_CT' exists.\n",
      "--------------------------------------------------------\n",
      "-   Wrote nrrd file for RT structure Brain file seg_Brain to ../examples/output_example/patient/radiomics/Brain_radiomics/20040506_CT   -\n",
      "--------------------------------------------------------\n"
     ]
    },
    {
     "name": "stderr",
     "output_type": "stream",
     "text": [
      "GLCM is symmetrical, therefore Sum Average = 2 * Joint Average, only 1 needs to be calculated\n"
     ]
    },
    {
     "name": "stdout",
     "output_type": "stream",
     "text": [
      "The folder '../examples/output_example/patient/radiomics/Brain_radiomics/20040506_CT/voxel_based' exists.\n"
     ]
    },
    {
     "ename": "MemoryError",
     "evalue": "",
     "output_type": "error",
     "traceback": [
      "\u001b[0;31m---------------------------------------------------------------------------\u001b[0m",
      "\u001b[0;31mMemoryError\u001b[0m                               Traceback (most recent call last)",
      "Cell \u001b[0;32mIn[6], line 10\u001b[0m\n\u001b[1;32m      8\u001b[0m         RS_file\u001b[38;5;241m.\u001b[39msort(key \u001b[38;5;241m=\u001b[39m \u001b[38;5;28;01mlambda\u001b[39;00m x: (x\u001b[38;5;241m.\u001b[39mStructureSetDate))\n\u001b[1;32m      9\u001b[0m         ROis \u001b[38;5;241m=\u001b[39m get_ROI_keys_2(RS_file[\u001b[38;5;241m0\u001b[39m])\n\u001b[0;32m---> 10\u001b[0m         \u001b[43mradiomics_utils\u001b[49m\u001b[38;5;241;43m.\u001b[39;49m\u001b[43mcreate_ROI_folders_and_radiomics_specific\u001b[49m\u001b[43m(\u001b[49m\u001b[43mRS_file\u001b[49m\u001b[43m[\u001b[49m\u001b[38;5;241;43m0\u001b[39;49m\u001b[43m]\u001b[49m\u001b[43m,\u001b[49m\u001b[38;5;124;43m'\u001b[39;49m\u001b[38;5;124;43mBrain\u001b[39;49m\u001b[38;5;124;43m'\u001b[39;49m\u001b[43m,\u001b[49m\u001b[43mfolder_path_radiomics\u001b[49m\u001b[43m,\u001b[49m\u001b[43mset_images\u001b[49m\u001b[43m,\u001b[49m\u001b[43mnew_path_save_images\u001b[49m\u001b[43m)\u001b[49m               \n\u001b[1;32m     11\u001b[0m     \u001b[38;5;66;03m#except:\u001b[39;00m\n\u001b[1;32m     12\u001b[0m      \u001b[38;5;66;03m#   continue\u001b[39;00m\n\u001b[1;32m     13\u001b[0m \u001b[38;5;66;03m#print(RS_file)\u001b[39;00m\n\u001b[1;32m     14\u001b[0m \n\u001b[1;32m     15\u001b[0m         \u001b[38;5;66;03m#\u001b[39;00m\n\u001b[1;32m     16\u001b[0m \u001b[38;5;66;03m#\u001b[39;00m\n",
      "File \u001b[0;32m~/mCODE-MOSAICO/examples/../utils/radiomics_utils.py:253\u001b[0m, in \u001b[0;36mcreate_ROI_folders_and_radiomics_specific\u001b[0;34m(RS_file, ROI, folder_path_radiomics, set_images, new_path_save_images)\u001b[0m\n\u001b[1;32m    250\u001b[0m create_folder(RS_save_path\u001b[38;5;241m+\u001b[39m\u001b[38;5;124m'\u001b[39m\u001b[38;5;124m/voxel_based\u001b[39m\u001b[38;5;124m'\u001b[39m)\n\u001b[1;32m    252\u001b[0m \u001b[38;5;66;03m#try:\u001b[39;00m\n\u001b[0;32m--> 253\u001b[0m \u001b[43mget_radiomics\u001b[49m\u001b[43m(\u001b[49m\u001b[38;5;124;43m'\u001b[39;49m\u001b[38;5;124;43mvoxel\u001b[39;49m\u001b[38;5;124;43m'\u001b[39;49m\u001b[43m,\u001b[49m\u001b[43mimage_path\u001b[49m\u001b[43m,\u001b[49m\u001b[43mmask_path\u001b[49m\u001b[43m,\u001b[49m\u001b[43mROI\u001b[49m\u001b[43m,\u001b[49m\u001b[43mRS_save_path\u001b[49m\u001b[43m)\u001b[49m\n",
      "File \u001b[0;32m~/mCODE-MOSAICO/examples/../utils/radiomics_utils.py:522\u001b[0m, in \u001b[0;36mget_radiomics\u001b[0;34m(method, image_file, mask_file, ROIName, path_radiomics)\u001b[0m\n\u001b[1;32m    518\u001b[0m \u001b[38;5;66;03m#featureVector = extractor.execute(image,image)\u001b[39;00m\n\u001b[1;32m    519\u001b[0m \n\u001b[1;32m    520\u001b[0m \u001b[38;5;66;03m#TO DO: reshape the feature map\u001b[39;00m\n\u001b[1;32m    521\u001b[0m \u001b[38;5;28;01mif\u001b[39;00m method\u001b[38;5;241m==\u001b[39m\u001b[38;5;124m'\u001b[39m\u001b[38;5;124mvoxel\u001b[39m\u001b[38;5;124m'\u001b[39m:                \n\u001b[0;32m--> 522\u001b[0m     featureVector \u001b[38;5;241m=\u001b[39m \u001b[43mextractor\u001b[49m\u001b[38;5;241;43m.\u001b[39;49m\u001b[43mexecute\u001b[49m\u001b[43m(\u001b[49m\u001b[43mimageName\u001b[49m\u001b[43m,\u001b[49m\u001b[43m \u001b[49m\u001b[43mmaskName\u001b[49m\u001b[43m,\u001b[49m\u001b[43m \u001b[49m\u001b[43mvoxelBased\u001b[49m\u001b[38;5;241;43m=\u001b[39;49m\u001b[38;5;28;43;01mTrue\u001b[39;49;00m\u001b[43m)\u001b[49m\n\u001b[1;32m    523\u001b[0m     \u001b[38;5;28;01mfor\u001b[39;00m key, val \u001b[38;5;129;01min\u001b[39;00m six\u001b[38;5;241m.\u001b[39miteritems(featureVector):\n\u001b[1;32m    524\u001b[0m         \u001b[38;5;28;01mif\u001b[39;00m \u001b[38;5;28misinstance\u001b[39m(val, sitk\u001b[38;5;241m.\u001b[39mImage):  \u001b[38;5;66;03m# Feature map\u001b[39;00m\n",
      "File \u001b[0;32m/data/odette/p3venv/lib/python3.10/site-packages/radiomics/featureextractor.py:330\u001b[0m, in \u001b[0;36mRadiomicsFeatureExtractor.execute\u001b[0;34m(self, imageFilepath, maskFilepath, label, label_channel, voxelBased)\u001b[0m\n\u001b[1;32m    328\u001b[0m   logger\u001b[38;5;241m.\u001b[39minfo(\u001b[38;5;124m'\u001b[39m\u001b[38;5;124mCalculating features for \u001b[39m\u001b[38;5;132;01m%s\u001b[39;00m\u001b[38;5;124m image\u001b[39m\u001b[38;5;124m'\u001b[39m, imageTypeName)\n\u001b[1;32m    329\u001b[0m   inputImage, inputMask \u001b[38;5;241m=\u001b[39m imageoperations\u001b[38;5;241m.\u001b[39mcropToTumorMask(inputImage, mask, boundingBox, padDistance\u001b[38;5;241m=\u001b[39mkernelRadius)\n\u001b[0;32m--> 330\u001b[0m   featureVector\u001b[38;5;241m.\u001b[39mupdate(\u001b[38;5;28;43mself\u001b[39;49m\u001b[38;5;241;43m.\u001b[39;49m\u001b[43mcomputeFeatures\u001b[49m\u001b[43m(\u001b[49m\u001b[43minputImage\u001b[49m\u001b[43m,\u001b[49m\u001b[43m \u001b[49m\u001b[43minputMask\u001b[49m\u001b[43m,\u001b[49m\u001b[43m \u001b[49m\u001b[43mimageTypeName\u001b[49m\u001b[43m,\u001b[49m\u001b[43m \u001b[49m\u001b[38;5;241;43m*\u001b[39;49m\u001b[38;5;241;43m*\u001b[39;49m\u001b[43minputKwargs\u001b[49m\u001b[43m)\u001b[49m)\n\u001b[1;32m    332\u001b[0m logger\u001b[38;5;241m.\u001b[39mdebug(\u001b[38;5;124m'\u001b[39m\u001b[38;5;124mFeatures extracted\u001b[39m\u001b[38;5;124m'\u001b[39m)\n\u001b[1;32m    334\u001b[0m \u001b[38;5;28;01mreturn\u001b[39;00m featureVector\n",
      "File \u001b[0;32m/data/odette/p3venv/lib/python3.10/site-packages/radiomics/featureextractor.py:517\u001b[0m, in \u001b[0;36mRadiomicsFeatureExtractor.computeFeatures\u001b[0;34m(self, image, mask, imageTypeName, **kwargs)\u001b[0m\n\u001b[1;32m    514\u001b[0m   \u001b[38;5;28;01mfor\u001b[39;00m feature \u001b[38;5;129;01min\u001b[39;00m featureNames:\n\u001b[1;32m    515\u001b[0m     featureClass\u001b[38;5;241m.\u001b[39menableFeatureByName(feature)\n\u001b[0;32m--> 517\u001b[0m \u001b[38;5;28;01mfor\u001b[39;00m (featureName, featureValue) \u001b[38;5;129;01min\u001b[39;00m six\u001b[38;5;241m.\u001b[39miteritems(\u001b[43mfeatureClass\u001b[49m\u001b[38;5;241;43m.\u001b[39;49m\u001b[43mexecute\u001b[49m\u001b[43m(\u001b[49m\u001b[43m)\u001b[49m):\n\u001b[1;32m    518\u001b[0m   newFeatureName \u001b[38;5;241m=\u001b[39m \u001b[38;5;124m'\u001b[39m\u001b[38;5;132;01m%s\u001b[39;00m\u001b[38;5;124m_\u001b[39m\u001b[38;5;132;01m%s\u001b[39;00m\u001b[38;5;124m_\u001b[39m\u001b[38;5;132;01m%s\u001b[39;00m\u001b[38;5;124m'\u001b[39m \u001b[38;5;241m%\u001b[39m (imageTypeName, featureClassName, featureName)\n\u001b[1;32m    519\u001b[0m   featureVector[newFeatureName] \u001b[38;5;241m=\u001b[39m featureValue\n",
      "File \u001b[0;32m/data/odette/p3venv/lib/python3.10/site-packages/radiomics/base.py:183\u001b[0m, in \u001b[0;36mRadiomicsFeaturesBase.execute\u001b[0;34m(self)\u001b[0m\n\u001b[1;32m    180\u001b[0m   \u001b[38;5;28mself\u001b[39m\u001b[38;5;241m.\u001b[39menableAllFeatures()\n\u001b[1;32m    182\u001b[0m \u001b[38;5;28;01mif\u001b[39;00m \u001b[38;5;28mself\u001b[39m\u001b[38;5;241m.\u001b[39mvoxelBased:\n\u001b[0;32m--> 183\u001b[0m   \u001b[38;5;28;43mself\u001b[39;49m\u001b[38;5;241;43m.\u001b[39;49m\u001b[43m_calculateVoxels\u001b[49m\u001b[43m(\u001b[49m\u001b[43m)\u001b[49m\n\u001b[1;32m    184\u001b[0m \u001b[38;5;28;01melse\u001b[39;00m:\n\u001b[1;32m    185\u001b[0m   \u001b[38;5;28mself\u001b[39m\u001b[38;5;241m.\u001b[39m_calculateSegment()\n",
      "File \u001b[0;32m/data/odette/p3venv/lib/python3.10/site-packages/radiomics/base.py:209\u001b[0m, in \u001b[0;36mRadiomicsFeaturesBase._calculateVoxels\u001b[0;34m(self)\u001b[0m\n\u001b[1;32m    207\u001b[0m voxelCoords \u001b[38;5;241m=\u001b[39m \u001b[38;5;28mself\u001b[39m\u001b[38;5;241m.\u001b[39mlabelledVoxelCoordinates[:, voxel_batch_idx:voxel_batch_idx \u001b[38;5;241m+\u001b[39m voxelBatch]\n\u001b[1;32m    208\u001b[0m \u001b[38;5;66;03m# Calculate the feature values for the current kernel\u001b[39;00m\n\u001b[0;32m--> 209\u001b[0m \u001b[38;5;28;01mfor\u001b[39;00m success, featureName, featureValue \u001b[38;5;129;01min\u001b[39;00m \u001b[38;5;28mself\u001b[39m\u001b[38;5;241m.\u001b[39m_calculateFeatures(voxelCoords):\n\u001b[1;32m    210\u001b[0m   \u001b[38;5;28;01mif\u001b[39;00m success:\n\u001b[1;32m    211\u001b[0m     \u001b[38;5;28mself\u001b[39m\u001b[38;5;241m.\u001b[39mfeatureValues[featureName][\u001b[38;5;28mtuple\u001b[39m(voxelCoords)] \u001b[38;5;241m=\u001b[39m featureValue\n",
      "File \u001b[0;32m/data/odette/p3venv/lib/python3.10/site-packages/radiomics/base.py:231\u001b[0m, in \u001b[0;36mRadiomicsFeaturesBase._calculateFeatures\u001b[0;34m(self, voxelCoordinates)\u001b[0m\n\u001b[1;32m    228\u001b[0m \u001b[38;5;28;01mdef\u001b[39;00m\u001b[38;5;250m \u001b[39m\u001b[38;5;21m_calculateFeatures\u001b[39m(\u001b[38;5;28mself\u001b[39m, voxelCoordinates\u001b[38;5;241m=\u001b[39m\u001b[38;5;28;01mNone\u001b[39;00m):\n\u001b[1;32m    229\u001b[0m   \u001b[38;5;66;03m# Initialize the calculation\u001b[39;00m\n\u001b[1;32m    230\u001b[0m   \u001b[38;5;66;03m# This function serves to calculate the texture matrices where applicable\u001b[39;00m\n\u001b[0;32m--> 231\u001b[0m   \u001b[38;5;28;43mself\u001b[39;49m\u001b[38;5;241;43m.\u001b[39;49m\u001b[43m_initCalculation\u001b[49m\u001b[43m(\u001b[49m\u001b[43mvoxelCoordinates\u001b[49m\u001b[43m)\u001b[49m\n\u001b[1;32m    233\u001b[0m   \u001b[38;5;28mself\u001b[39m\u001b[38;5;241m.\u001b[39mlogger\u001b[38;5;241m.\u001b[39mdebug(\u001b[38;5;124m'\u001b[39m\u001b[38;5;124mCalculating features\u001b[39m\u001b[38;5;124m'\u001b[39m)\n\u001b[1;32m    234\u001b[0m   \u001b[38;5;28;01mfor\u001b[39;00m feature, enabled \u001b[38;5;129;01min\u001b[39;00m six\u001b[38;5;241m.\u001b[39miteritems(\u001b[38;5;28mself\u001b[39m\u001b[38;5;241m.\u001b[39menabledFeatures):\n",
      "File \u001b[0;32m/data/odette/p3venv/lib/python3.10/site-packages/radiomics/glcm.py:111\u001b[0m, in \u001b[0;36mRadiomicsGLCM._initCalculation\u001b[0;34m(self, voxelCoordinates)\u001b[0m\n\u001b[1;32m    110\u001b[0m \u001b[38;5;28;01mdef\u001b[39;00m\u001b[38;5;250m \u001b[39m\u001b[38;5;21m_initCalculation\u001b[39m(\u001b[38;5;28mself\u001b[39m, voxelCoordinates\u001b[38;5;241m=\u001b[39m\u001b[38;5;28;01mNone\u001b[39;00m):\n\u001b[0;32m--> 111\u001b[0m   \u001b[38;5;28mself\u001b[39m\u001b[38;5;241m.\u001b[39mP_glcm \u001b[38;5;241m=\u001b[39m \u001b[38;5;28;43mself\u001b[39;49m\u001b[38;5;241;43m.\u001b[39;49m\u001b[43m_calculateMatrix\u001b[49m\u001b[43m(\u001b[49m\u001b[43mvoxelCoordinates\u001b[49m\u001b[43m)\u001b[49m\n\u001b[1;32m    113\u001b[0m   \u001b[38;5;28mself\u001b[39m\u001b[38;5;241m.\u001b[39m_calculateCoefficients()\n\u001b[1;32m    115\u001b[0m   \u001b[38;5;28mself\u001b[39m\u001b[38;5;241m.\u001b[39mlogger\u001b[38;5;241m.\u001b[39mdebug(\u001b[38;5;124m'\u001b[39m\u001b[38;5;124mGLCM feature class initialized, calculated GLCM with shape \u001b[39m\u001b[38;5;132;01m%s\u001b[39;00m\u001b[38;5;124m'\u001b[39m, \u001b[38;5;28mself\u001b[39m\u001b[38;5;241m.\u001b[39mP_glcm\u001b[38;5;241m.\u001b[39mshape)\n",
      "File \u001b[0;32m/data/odette/p3venv/lib/python3.10/site-packages/radiomics/glcm.py:139\u001b[0m, in \u001b[0;36mRadiomicsGLCM._calculateMatrix\u001b[0;34m(self, voxelCoordinates)\u001b[0m\n\u001b[1;32m    136\u001b[0m \u001b[38;5;28;01mif\u001b[39;00m \u001b[38;5;28mself\u001b[39m\u001b[38;5;241m.\u001b[39mvoxelBased:\n\u001b[1;32m    137\u001b[0m   matrix_args \u001b[38;5;241m+\u001b[39m\u001b[38;5;241m=\u001b[39m [\u001b[38;5;28mself\u001b[39m\u001b[38;5;241m.\u001b[39msettings\u001b[38;5;241m.\u001b[39mget(\u001b[38;5;124m'\u001b[39m\u001b[38;5;124mkernelRadius\u001b[39m\u001b[38;5;124m'\u001b[39m, \u001b[38;5;241m1\u001b[39m), voxelCoordinates]\n\u001b[0;32m--> 139\u001b[0m P_glcm, angles \u001b[38;5;241m=\u001b[39m \u001b[43mcMatrices\u001b[49m\u001b[38;5;241;43m.\u001b[39;49m\u001b[43mcalculate_glcm\u001b[49m\u001b[43m(\u001b[49m\u001b[38;5;241;43m*\u001b[39;49m\u001b[43mmatrix_args\u001b[49m\u001b[43m)\u001b[49m\n\u001b[1;32m    141\u001b[0m \u001b[38;5;28mself\u001b[39m\u001b[38;5;241m.\u001b[39mlogger\u001b[38;5;241m.\u001b[39mdebug(\u001b[38;5;124m'\u001b[39m\u001b[38;5;124mProcess calculated matrix\u001b[39m\u001b[38;5;124m'\u001b[39m)\n\u001b[1;32m    143\u001b[0m \u001b[38;5;66;03m# Delete rows and columns that specify gray levels not present in the ROI\u001b[39;00m\n",
      "\u001b[0;31mMemoryError\u001b[0m: "
     ]
    }
   ],
   "source": [
    "paths_images_RS = {}\n",
    "for path in paths_images_all:\n",
    "    set_images = get_set_images(path)\n",
    "    if len(set_images)!=0:\n",
    "        for path_2 in paths_images_all:\n",
    "            RS_file = search_RS_file(path_2,set_images[0].SeriesDescription)\n",
    "            \n",
    "            #if len(RS_file)!=0:\n",
    "                #RS_file.sort(key = lambda x: (x.StructureSetDate))\n",
    "                #ROis = get_ROI_keys_2(RS_file[0])\n",
    "                #radiomics_utils.create_ROI_folders_and_radiomics_specific(RS_file[0],'Brain',folder_path_radiomics,set_images,new_path_save_images)               \n",
    "            #except:\n",
    "             #   continue\n",
    "        #print(RS_file)\n",
    "    \n",
    "                #\n",
    "        #\n",
    "    "
   ]
  },
  {
   "cell_type": "code",
   "execution_count": null,
   "id": "7deb2328-4ad9-4ca9-91c7-6e002e5a1132",
   "metadata": {},
   "outputs": [],
   "source": []
  },
  {
   "cell_type": "code",
   "execution_count": null,
   "id": "c028d6f2-4260-46e1-bffb-67cc4d86e372",
   "metadata": {},
   "outputs": [],
   "source": []
  },
  {
   "cell_type": "code",
   "execution_count": null,
   "id": "bdcc3f42-6ebd-49b7-b7cc-26a2a6dfaa57",
   "metadata": {},
   "outputs": [],
   "source": []
  },
  {
   "cell_type": "code",
   "execution_count": null,
   "id": "11f82404-783e-456a-86d1-c5c84f239962",
   "metadata": {},
   "outputs": [],
   "source": []
  },
  {
   "cell_type": "code",
   "execution_count": null,
   "id": "226dab8f-c37c-43a3-872c-75703813b280",
   "metadata": {},
   "outputs": [],
   "source": []
  }
 ],
 "metadata": {
  "kernelspec": {
   "display_name": "Python 3 (ipykernel)",
   "language": "python",
   "name": "python3"
  },
  "language_info": {
   "codemirror_mode": {
    "name": "ipython",
    "version": 3
   },
   "file_extension": ".py",
   "mimetype": "text/x-python",
   "name": "python",
   "nbconvert_exporter": "python",
   "pygments_lexer": "ipython3",
   "version": "3.10.12"
  }
 },
 "nbformat": 4,
 "nbformat_minor": 5
}
