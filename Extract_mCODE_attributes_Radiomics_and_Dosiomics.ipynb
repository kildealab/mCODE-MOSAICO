{
 "cells": [
  {
   "cell_type": "markdown",
   "id": "8e03dde6",
   "metadata": {},
   "source": [
    "# Extract mCODE attributes "
   ]
  },
  {
   "cell_type": "code",
   "execution_count": null,
   "id": "fed3d01b",
   "metadata": {},
   "outputs": [],
   "source": []
  },
  {
   "cell_type": "markdown",
   "id": "01356d5f",
   "metadata": {},
   "source": [
    "# Extract Radiomics"
   ]
  },
  {
   "cell_type": "code",
   "execution_count": null,
   "id": "ba5041e3",
   "metadata": {},
   "outputs": [],
   "source": []
  }
 ],
 "metadata": {
  "kernelspec": {
   "display_name": "Python 3 (ipykernel)",
   "language": "python",
   "name": "python3"
  },
  "language_info": {
   "codemirror_mode": {
    "name": "ipython",
    "version": 3
   },
   "file_extension": ".py",
   "mimetype": "text/x-python",
   "name": "python",
   "nbconvert_exporter": "python",
   "pygments_lexer": "ipython3",
   "version": "3.8.10"
  }
 },
 "nbformat": 4,
 "nbformat_minor": 5
}
